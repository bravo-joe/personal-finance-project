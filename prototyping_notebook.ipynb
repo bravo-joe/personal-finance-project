{
 "cells": [
  {
   "cell_type": "code",
   "execution_count": 13,
   "metadata": {},
   "outputs": [],
   "source": [
    "# Beginning of \"prototyping_notebook.ipynb\""
   ]
  },
  {
   "cell_type": "markdown",
   "metadata": {},
   "source": [
    "This notebook is for prototyping the functions nnd other logic that will be used in the Personal Finance Project.\n",
    "\n",
    "Create a simple data pipeline that will take a CSV file, clean the data, ensure proper data types then load in MySQl before Phase 2.\n",
    "\n",
    "Initiate current directory and import the CSV file."
   ]
  },
  {
   "cell_type": "code",
   "execution_count": 10,
   "metadata": {},
   "outputs": [],
   "source": [
    "# Import all necessary libraries and module\n",
    "from pathlib import Path\n",
    "import pandas as pd\n",
    "\n",
    "pd.set_option('display.max_rows', None)\n",
    "pd.set_option('display.max_columns', None)"
   ]
  },
  {
   "cell_type": "code",
   "execution_count": 3,
   "metadata": {},
   "outputs": [
    {
     "name": "stdout",
     "output_type": "stream",
     "text": [
      "/home/joebravo/Documents/personal_finances_project\n"
     ]
    }
   ],
   "source": [
    "# Get the current directory\n",
    "current_directory=Path.cwd()\n",
    "print(current_directory)"
   ]
  },
  {
   "cell_type": "markdown",
   "metadata": {},
   "source": [
    "Confirmed that I am in the correct dirrectory."
   ]
  },
  {
   "cell_type": "code",
   "execution_count": 4,
   "metadata": {},
   "outputs": [
    {
     "data": {
      "text/html": [
       "<div>\n",
       "<style scoped>\n",
       "    .dataframe tbody tr th:only-of-type {\n",
       "        vertical-align: middle;\n",
       "    }\n",
       "\n",
       "    .dataframe tbody tr th {\n",
       "        vertical-align: top;\n",
       "    }\n",
       "\n",
       "    .dataframe thead th {\n",
       "        text-align: right;\n",
       "    }\n",
       "</style>\n",
       "<table border=\"1\" class=\"dataframe\">\n",
       "  <thead>\n",
       "    <tr style=\"text-align: right;\">\n",
       "      <th></th>\n",
       "      <th>date</th>\n",
       "      <th>day</th>\n",
       "      <th>description</th>\n",
       "      <th>category</th>\n",
       "      <th>amount ($)</th>\n",
       "    </tr>\n",
       "  </thead>\n",
       "  <tbody>\n",
       "    <tr>\n",
       "      <th>0</th>\n",
       "      <td>2023-12-01</td>\n",
       "      <td>Friday</td>\n",
       "      <td>Tlatoani Barbershop</td>\n",
       "      <td>haircut</td>\n",
       "      <td>60.00</td>\n",
       "    </tr>\n",
       "    <tr>\n",
       "      <th>1</th>\n",
       "      <td>2023-12-01</td>\n",
       "      <td>Friday</td>\n",
       "      <td>Andy's Boy</td>\n",
       "      <td>meds</td>\n",
       "      <td>60.00</td>\n",
       "    </tr>\n",
       "    <tr>\n",
       "      <th>2</th>\n",
       "      <td>2023-12-01</td>\n",
       "      <td>Friday</td>\n",
       "      <td>Nob Hill Foods</td>\n",
       "      <td>drinks</td>\n",
       "      <td>13.43</td>\n",
       "    </tr>\n",
       "    <tr>\n",
       "      <th>3</th>\n",
       "      <td>2023-12-01</td>\n",
       "      <td>Friday</td>\n",
       "      <td>TicketWeb</td>\n",
       "      <td>entertainment</td>\n",
       "      <td>49.20</td>\n",
       "    </tr>\n",
       "    <tr>\n",
       "      <th>4</th>\n",
       "      <td>2023-12-02</td>\n",
       "      <td>Saturday</td>\n",
       "      <td>Lyft</td>\n",
       "      <td>rideshare</td>\n",
       "      <td>6.00</td>\n",
       "    </tr>\n",
       "  </tbody>\n",
       "</table>\n",
       "</div>"
      ],
      "text/plain": [
       "         date       day          description       category  amount ($)\n",
       "0  2023-12-01    Friday  Tlatoani Barbershop        haircut       60.00\n",
       "1  2023-12-01    Friday           Andy's Boy           meds       60.00\n",
       "2  2023-12-01    Friday       Nob Hill Foods         drinks       13.43\n",
       "3  2023-12-01    Friday            TicketWeb  entertainment       49.20\n",
       "4  2023-12-02  Saturday                 Lyft      rideshare        6.00"
      ]
     },
     "execution_count": 4,
     "metadata": {},
     "output_type": "execute_result"
    }
   ],
   "source": [
    "# Navigate to directory containing file I wanted\n",
    "file_path = Path('data/DEC_2023.csv')\n",
    "\n",
    "raw_data = pd.read_csv(file_path)\n",
    "raw_data['date'] = pd.to_datetime(raw_data['date']).dt.date\n",
    "\n",
    "raw_data.head()"
   ]
  },
  {
   "cell_type": "markdown",
   "metadata": {},
   "source": [
    "Successfully imported the CSV data file and got a quick snap shot of the data."
   ]
  },
  {
   "cell_type": "code",
   "execution_count": 5,
   "metadata": {},
   "outputs": [
    {
     "data": {
      "text/plain": [
       "date            object\n",
       "day             object\n",
       "description     object\n",
       "category        object\n",
       "amount ($)     float64\n",
       "dtype: object"
      ]
     },
     "execution_count": 5,
     "metadata": {},
     "output_type": "execute_result"
    }
   ],
   "source": [
    "raw_data.dtypes"
   ]
  },
  {
   "cell_type": "markdown",
   "metadata": {},
   "source": [
    "Use conditonal IF statements to check the data types of each column and then change if it's not the data type I want."
   ]
  },
  {
   "cell_type": "code",
   "execution_count": 6,
   "metadata": {},
   "outputs": [
    {
     "name": "stdout",
     "output_type": "stream",
     "text": [
      "it's an object data type\n"
     ]
    }
   ],
   "source": [
    "if raw_data.date.dtype != object:\n",
    "    print(\"it's not an object dtype\")\n",
    "else:\n",
    "    print(\"it's an object data type\")"
   ]
  },
  {
   "cell_type": "markdown",
   "metadata": {},
   "source": [
    "Convert the day column from object to string for further data processing."
   ]
  },
  {
   "cell_type": "code",
   "execution_count": null,
   "metadata": {},
   "outputs": [],
   "source": [
    "# raw_data['daycolumn'] = df['column'].astype('|S') # which will by default set the length to the max len it encounters"
   ]
  },
  {
   "cell_type": "code",
   "execution_count": 7,
   "metadata": {},
   "outputs": [
    {
     "data": {
      "text/html": [
       "<div>\n",
       "<style scoped>\n",
       "    .dataframe tbody tr th:only-of-type {\n",
       "        vertical-align: middle;\n",
       "    }\n",
       "\n",
       "    .dataframe tbody tr th {\n",
       "        vertical-align: top;\n",
       "    }\n",
       "\n",
       "    .dataframe thead th {\n",
       "        text-align: right;\n",
       "    }\n",
       "</style>\n",
       "<table border=\"1\" class=\"dataframe\">\n",
       "  <thead>\n",
       "    <tr style=\"text-align: right;\">\n",
       "      <th></th>\n",
       "      <th>date</th>\n",
       "      <th>day</th>\n",
       "      <th>description</th>\n",
       "      <th>category</th>\n",
       "      <th>amount ($)</th>\n",
       "    </tr>\n",
       "  </thead>\n",
       "  <tbody>\n",
       "    <tr>\n",
       "      <th>105</th>\n",
       "      <td>2023-12-30</td>\n",
       "      <td>Saturday</td>\n",
       "      <td>Mira Mesa Crown Liquor</td>\n",
       "      <td>drinks</td>\n",
       "      <td>17.99</td>\n",
       "    </tr>\n",
       "    <tr>\n",
       "      <th>106</th>\n",
       "      <td>2023-12-30</td>\n",
       "      <td>Saturday</td>\n",
       "      <td>Chevron</td>\n",
       "      <td>groceries</td>\n",
       "      <td>2.79</td>\n",
       "    </tr>\n",
       "    <tr>\n",
       "      <th>107</th>\n",
       "      <td>2023-12-30</td>\n",
       "      <td>Saturday</td>\n",
       "      <td>Hyatt House</td>\n",
       "      <td>parking</td>\n",
       "      <td>16.00</td>\n",
       "    </tr>\n",
       "    <tr>\n",
       "      <th>108</th>\n",
       "      <td>2023-12-31</td>\n",
       "      <td>sunday</td>\n",
       "      <td>Quick Mart</td>\n",
       "      <td>drinks</td>\n",
       "      <td>12.58</td>\n",
       "    </tr>\n",
       "    <tr>\n",
       "      <th>109</th>\n",
       "      <td>2023-12-31</td>\n",
       "      <td>sunday</td>\n",
       "      <td>76 Fuel</td>\n",
       "      <td>groceries</td>\n",
       "      <td>3.32</td>\n",
       "    </tr>\n",
       "  </tbody>\n",
       "</table>\n",
       "</div>"
      ],
      "text/plain": [
       "           date       day             description   category  amount ($)\n",
       "105  2023-12-30  Saturday  Mira Mesa Crown Liquor     drinks       17.99\n",
       "106  2023-12-30  Saturday                 Chevron  groceries        2.79\n",
       "107  2023-12-30  Saturday             Hyatt House    parking       16.00\n",
       "108  2023-12-31    sunday              Quick Mart     drinks       12.58\n",
       "109  2023-12-31    sunday                 76 Fuel  groceries        3.32"
      ]
     },
     "execution_count": 7,
     "metadata": {},
     "output_type": "execute_result"
    }
   ],
   "source": [
    "raw_data.tail()"
   ]
  },
  {
   "cell_type": "code",
   "execution_count": 9,
   "metadata": {},
   "outputs": [
    {
     "data": {
      "text/html": [
       "<div>\n",
       "<style scoped>\n",
       "    .dataframe tbody tr th:only-of-type {\n",
       "        vertical-align: middle;\n",
       "    }\n",
       "\n",
       "    .dataframe tbody tr th {\n",
       "        vertical-align: top;\n",
       "    }\n",
       "\n",
       "    .dataframe thead th {\n",
       "        text-align: right;\n",
       "    }\n",
       "</style>\n",
       "<table border=\"1\" class=\"dataframe\">\n",
       "  <thead>\n",
       "    <tr style=\"text-align: right;\">\n",
       "      <th></th>\n",
       "      <th>date</th>\n",
       "      <th>day</th>\n",
       "      <th>description</th>\n",
       "      <th>category</th>\n",
       "      <th>amount ($)</th>\n",
       "    </tr>\n",
       "  </thead>\n",
       "  <tbody>\n",
       "    <tr>\n",
       "      <th>0</th>\n",
       "      <td>2023-12-01</td>\n",
       "      <td>friday</td>\n",
       "      <td>Tlatoani Barbershop</td>\n",
       "      <td>haircut</td>\n",
       "      <td>60.00</td>\n",
       "    </tr>\n",
       "    <tr>\n",
       "      <th>1</th>\n",
       "      <td>2023-12-01</td>\n",
       "      <td>friday</td>\n",
       "      <td>Andy's Boy</td>\n",
       "      <td>meds</td>\n",
       "      <td>60.00</td>\n",
       "    </tr>\n",
       "    <tr>\n",
       "      <th>2</th>\n",
       "      <td>2023-12-01</td>\n",
       "      <td>friday</td>\n",
       "      <td>Nob Hill Foods</td>\n",
       "      <td>drinks</td>\n",
       "      <td>13.43</td>\n",
       "    </tr>\n",
       "    <tr>\n",
       "      <th>3</th>\n",
       "      <td>2023-12-01</td>\n",
       "      <td>friday</td>\n",
       "      <td>TicketWeb</td>\n",
       "      <td>entertainment</td>\n",
       "      <td>49.20</td>\n",
       "    </tr>\n",
       "    <tr>\n",
       "      <th>4</th>\n",
       "      <td>2023-12-02</td>\n",
       "      <td>saturday</td>\n",
       "      <td>Lyft</td>\n",
       "      <td>rideshare</td>\n",
       "      <td>6.00</td>\n",
       "    </tr>\n",
       "  </tbody>\n",
       "</table>\n",
       "</div>"
      ],
      "text/plain": [
       "         date       day          description       category  amount ($)\n",
       "0  2023-12-01    friday  Tlatoani Barbershop        haircut       60.00\n",
       "1  2023-12-01    friday           Andy's Boy           meds       60.00\n",
       "2  2023-12-01    friday       Nob Hill Foods         drinks       13.43\n",
       "3  2023-12-01    friday            TicketWeb  entertainment       49.20\n",
       "4  2023-12-02  saturday                 Lyft      rideshare        6.00"
      ]
     },
     "execution_count": 9,
     "metadata": {},
     "output_type": "execute_result"
    }
   ],
   "source": [
    "# Convert 'col1' to lowercase\n",
    "raw_data['day'] = raw_data['day'].str.lower()\n",
    "raw_data.head()"
   ]
  },
  {
   "cell_type": "code",
   "execution_count": 12,
   "metadata": {},
   "outputs": [
    {
     "data": {
      "text/plain": [
       "array(['friday', 'saturday', 'sunday', 'monday', 'tuesday', 'wednesday',\n",
       "       'thursday'], dtype=object)"
      ]
     },
     "execution_count": 12,
     "metadata": {},
     "output_type": "execute_result"
    }
   ],
   "source": [
    "raw_data['day'].unique()"
   ]
  },
  {
   "cell_type": "code",
   "execution_count": 14,
   "metadata": {},
   "outputs": [],
   "source": [
    "# End of \"prototyping_notebook.ipynb\""
   ]
  }
 ],
 "metadata": {
  "kernelspec": {
   "display_name": "Python 3",
   "language": "python",
   "name": "python3"
  },
  "language_info": {
   "codemirror_mode": {
    "name": "ipython",
    "version": 3
   },
   "file_extension": ".py",
   "mimetype": "text/x-python",
   "name": "python",
   "nbconvert_exporter": "python",
   "pygments_lexer": "ipython3",
   "version": "3.12.9"
  }
 },
 "nbformat": 4,
 "nbformat_minor": 2
}
