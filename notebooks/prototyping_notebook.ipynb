{
 "cells": [
  {
   "cell_type": "markdown",
   "metadata": {},
   "source": [
    "This notebook is for prototyping the functions nnd other logic that will be used in the Personal Finance Project.\n",
    "\n",
    "# Phase 1\n",
    "Create a simple data pipeline that will take a CSV file, clean the data, ensure proper data types then load in MySQl before Phase 2.\n",
    "\n",
    "## Step 1\n",
    "Initiate current directory and import the CSV file.\n"
   ]
  },
  {
   "cell_type": "code",
   "execution_count": 1,
   "metadata": {},
   "outputs": [
    {
     "name": "stdout",
     "output_type": "stream",
     "text": [
      "/home/joebravo/Documents/personal_finances_project\n"
     ]
    }
   ],
   "source": [
    "from pathlib import Path\n",
    "\n",
    "# Get the current directory\n",
    "current_directory=Path.cwd()\n",
    "print(current_directory)"
   ]
  },
  {
   "cell_type": "markdown",
   "metadata": {},
   "source": [
    "Confirmed that I am in the correct dirrectory."
   ]
  },
  {
   "cell_type": "code",
   "execution_count": 5,
   "metadata": {},
   "outputs": [
    {
     "data": {
      "text/html": [
       "<div>\n",
       "<style scoped>\n",
       "    .dataframe tbody tr th:only-of-type {\n",
       "        vertical-align: middle;\n",
       "    }\n",
       "\n",
       "    .dataframe tbody tr th {\n",
       "        vertical-align: top;\n",
       "    }\n",
       "\n",
       "    .dataframe thead th {\n",
       "        text-align: right;\n",
       "    }\n",
       "</style>\n",
       "<table border=\"1\" class=\"dataframe\">\n",
       "  <thead>\n",
       "    <tr style=\"text-align: right;\">\n",
       "      <th></th>\n",
       "      <th>date</th>\n",
       "      <th>day</th>\n",
       "      <th>description</th>\n",
       "      <th>category</th>\n",
       "      <th>amount ($)</th>\n",
       "    </tr>\n",
       "  </thead>\n",
       "  <tbody>\n",
       "    <tr>\n",
       "      <th>0</th>\n",
       "      <td>2023-12-01</td>\n",
       "      <td>Friday</td>\n",
       "      <td>Tlatoani Barbershop</td>\n",
       "      <td>haircut</td>\n",
       "      <td>60.00</td>\n",
       "    </tr>\n",
       "    <tr>\n",
       "      <th>1</th>\n",
       "      <td>2023-12-01</td>\n",
       "      <td>Friday</td>\n",
       "      <td>Andy's Boy</td>\n",
       "      <td>meds</td>\n",
       "      <td>60.00</td>\n",
       "    </tr>\n",
       "    <tr>\n",
       "      <th>2</th>\n",
       "      <td>2023-12-01</td>\n",
       "      <td>Friday</td>\n",
       "      <td>Nob Hill Foods</td>\n",
       "      <td>drinks</td>\n",
       "      <td>13.43</td>\n",
       "    </tr>\n",
       "    <tr>\n",
       "      <th>3</th>\n",
       "      <td>2023-12-01</td>\n",
       "      <td>Friday</td>\n",
       "      <td>TicketWeb</td>\n",
       "      <td>entertainment</td>\n",
       "      <td>49.20</td>\n",
       "    </tr>\n",
       "    <tr>\n",
       "      <th>4</th>\n",
       "      <td>2023-12-02</td>\n",
       "      <td>Saturday</td>\n",
       "      <td>Lyft</td>\n",
       "      <td>rideshare</td>\n",
       "      <td>6.00</td>\n",
       "    </tr>\n",
       "  </tbody>\n",
       "</table>\n",
       "</div>"
      ],
      "text/plain": [
       "         date       day          description       category  amount ($)\n",
       "0  2023-12-01    Friday  Tlatoani Barbershop        haircut       60.00\n",
       "1  2023-12-01    Friday           Andy's Boy           meds       60.00\n",
       "2  2023-12-01    Friday       Nob Hill Foods         drinks       13.43\n",
       "3  2023-12-01    Friday            TicketWeb  entertainment       49.20\n",
       "4  2023-12-02  Saturday                 Lyft      rideshare        6.00"
      ]
     },
     "execution_count": 5,
     "metadata": {},
     "output_type": "execute_result"
    }
   ],
   "source": [
    "# Navigate to directory containing file I wanted\n",
    "file_path = Path('data/DEC_2023.csv')\n",
    "\n",
    "import pandas as pd\n",
    "\n",
    "raw_data = pd.read_csv(file_path)\n",
    "raw_data.head()"
   ]
  },
  {
   "cell_type": "markdown",
   "metadata": {},
   "source": [
    "Successfully imported the CSV data file and got a quick snap shot of the data."
   ]
  },
  {
   "cell_type": "markdown",
   "metadata": {},
   "source": []
  },
  {
   "cell_type": "code",
   "execution_count": null,
   "metadata": {},
   "outputs": [],
   "source": []
  }
 ],
 "metadata": {
  "kernelspec": {
   "display_name": "Python 3",
   "language": "python",
   "name": "python3"
  },
  "language_info": {
   "codemirror_mode": {
    "name": "ipython",
    "version": 3
   },
   "file_extension": ".py",
   "mimetype": "text/x-python",
   "name": "python",
   "nbconvert_exporter": "python",
   "pygments_lexer": "ipython3",
   "version": "3.12.9"
  }
 },
 "nbformat": 4,
 "nbformat_minor": 2
}
