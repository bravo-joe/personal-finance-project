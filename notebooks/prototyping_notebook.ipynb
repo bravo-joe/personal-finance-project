{
 "cells": [
  {
   "cell_type": "code",
   "execution_count": 1,
   "metadata": {},
   "outputs": [],
   "source": [
    "# Beginning of \"prototyping_notebook.ipynb\""
   ]
  },
  {
   "cell_type": "markdown",
   "metadata": {},
   "source": [
    "# Prototyping Notebook"
   ]
  },
  {
   "cell_type": "markdown",
   "metadata": {},
   "source": [
    "This notebook is for prototyping functions and other logic that will be used in the Personal Finance Project. This project will create a data pipeline that will take a CSV file, clean the data, ensure proper data types then load in a PostgreSQL database. A simple DAG will take the financial data from the database and process the data into four datasets. Another script will intake the aforementioned datasets and create a Shiny web app detailing some important metrics from the financial data."
   ]
  },
  {
   "cell_type": "markdown",
   "metadata": {},
   "source": [
    "## Section 0: Setup Environment\n",
    "\n",
    "Import necessary libraries, initiate current directory and import the CSV file."
   ]
  },
  {
   "cell_type": "code",
   "execution_count": 40,
   "metadata": {},
   "outputs": [],
   "source": [
    "# Import all necessary libraries and module\n",
    "from pathlib import Path\n",
    "import os\n",
    "import pandas as pd\n",
    "import re # Regular expression library also for removing apostrophes\n",
    "import psycopg2 # To handle connection to postgresql\n",
    "import yaml # For configuration file\n",
    "import matplotlib.pyplot as plt\n",
    "import numpy as np\n",
    "np.random.seed(1234)\n",
    "import random\n",
    "import time\n",
    "from datetime import datetime, timedelta\n",
    "# Some custom helper functions\n",
    "from helper_funcs.pfp_helper_funcs import rm_plot2_cols, process_plot4\n",
    "\n",
    "pd.set_option('display.max_rows', None)\n",
    "pd.set_option('display.max_columns', None)"
   ]
  },
  {
   "cell_type": "code",
   "execution_count": 3,
   "metadata": {},
   "outputs": [
    {
     "name": "stdout",
     "output_type": "stream",
     "text": [
      "/run/media/joebravo/Extreme SSD/personal_finances_project\n"
     ]
    }
   ],
   "source": [
    "# Get the current directory\n",
    "current_directory=Path.cwd()\n",
    "# Sanity check: confirm that we are in the correct directory.\n",
    "print(current_directory)"
   ]
  },
  {
   "cell_type": "code",
   "execution_count": 4,
   "metadata": {},
   "outputs": [
    {
     "data": {
      "text/html": [
       "<div>\n",
       "<style scoped>\n",
       "    .dataframe tbody tr th:only-of-type {\n",
       "        vertical-align: middle;\n",
       "    }\n",
       "\n",
       "    .dataframe tbody tr th {\n",
       "        vertical-align: top;\n",
       "    }\n",
       "\n",
       "    .dataframe thead th {\n",
       "        text-align: right;\n",
       "    }\n",
       "</style>\n",
       "<table border=\"1\" class=\"dataframe\">\n",
       "  <thead>\n",
       "    <tr style=\"text-align: right;\">\n",
       "      <th></th>\n",
       "      <th>date</th>\n",
       "      <th>day</th>\n",
       "      <th>description</th>\n",
       "      <th>category</th>\n",
       "      <th>amount</th>\n",
       "    </tr>\n",
       "  </thead>\n",
       "  <tbody>\n",
       "    <tr>\n",
       "      <th>105</th>\n",
       "      <td>2023-12-30</td>\n",
       "      <td>Saturday</td>\n",
       "      <td>Mira Mesa Crown Liquor</td>\n",
       "      <td>drinks</td>\n",
       "      <td>17.99</td>\n",
       "    </tr>\n",
       "    <tr>\n",
       "      <th>106</th>\n",
       "      <td>2023-12-30</td>\n",
       "      <td>Saturday</td>\n",
       "      <td>Chevron</td>\n",
       "      <td>groceries</td>\n",
       "      <td>2.79</td>\n",
       "    </tr>\n",
       "    <tr>\n",
       "      <th>107</th>\n",
       "      <td>2023-12-30</td>\n",
       "      <td>Saturday</td>\n",
       "      <td>Hyatt House</td>\n",
       "      <td>parking</td>\n",
       "      <td>16.00</td>\n",
       "    </tr>\n",
       "    <tr>\n",
       "      <th>108</th>\n",
       "      <td>2023-12-31</td>\n",
       "      <td>sunday</td>\n",
       "      <td>Quick Mart</td>\n",
       "      <td>drinks</td>\n",
       "      <td>12.58</td>\n",
       "    </tr>\n",
       "    <tr>\n",
       "      <th>109</th>\n",
       "      <td>2023-12-31</td>\n",
       "      <td>sunday</td>\n",
       "      <td>76 Fuel</td>\n",
       "      <td>groceries</td>\n",
       "      <td>3.32</td>\n",
       "    </tr>\n",
       "  </tbody>\n",
       "</table>\n",
       "</div>"
      ],
      "text/plain": [
       "           date       day             description   category  amount\n",
       "105  2023-12-30  Saturday  Mira Mesa Crown Liquor     drinks   17.99\n",
       "106  2023-12-30  Saturday                 Chevron  groceries    2.79\n",
       "107  2023-12-30  Saturday             Hyatt House    parking   16.00\n",
       "108  2023-12-31    sunday              Quick Mart     drinks   12.58\n",
       "109  2023-12-31    sunday                 76 Fuel  groceries    3.32"
      ]
     },
     "execution_count": 4,
     "metadata": {},
     "output_type": "execute_result"
    }
   ],
   "source": [
    "# Navigate to directory containing needed file\n",
    "file_path = Path('data/DEC_2023.csv')\n",
    "\n",
    "# Store pandas dataframe (df) into variable\n",
    "raw_data = pd.read_csv(file_path)\n",
    "# Ensure date column is appropriate data type\n",
    "raw_data['date'] = pd.to_datetime(raw_data['date']).dt.date\n",
    "\n",
    "raw_data.tail() # Check final 5 records"
   ]
  },
  {
   "cell_type": "code",
   "execution_count": 5,
   "metadata": {},
   "outputs": [
    {
     "data": {
      "text/plain": [
       "date            object\n",
       "day             object\n",
       "description     object\n",
       "category        object\n",
       "amount         float64\n",
       "dtype: object"
      ]
     },
     "execution_count": 5,
     "metadata": {},
     "output_type": "execute_result"
    }
   ],
   "source": [
    "# Sanity check: get data types of the different fields\n",
    "raw_data.dtypes"
   ]
  },
  {
   "cell_type": "markdown",
   "metadata": {},
   "source": [
    "Use conditonal statements to check the data types of each column and then change if it's not the necessary data type for analysis."
   ]
  },
  {
   "cell_type": "code",
   "execution_count": 6,
   "metadata": {},
   "outputs": [
    {
     "name": "stdout",
     "output_type": "stream",
     "text": [
      "it's an object data type\n"
     ]
    }
   ],
   "source": [
    "if raw_data.date.dtype != object:\n",
    "    print(\"it's not an object dtype\")\n",
    "else:\n",
    "    print(\"it's an object data type\")"
   ]
  },
  {
   "cell_type": "markdown",
   "metadata": {},
   "source": [
    "Create and test a function that removes apostrophes from strings in a Pandas column. This function was not necessary once I found alternative ways to get the CSV file into the Postgres database."
   ]
  },
  {
   "cell_type": "code",
   "execution_count": 7,
   "metadata": {},
   "outputs": [
    {
     "name": "stdout",
     "output_type": "stream",
     "text": [
      "             text\n",
      "0  thiss a string\n",
      "1      Otters Den\n",
      "2      TGIFridays\n",
      "3       Applebees\n"
     ]
    }
   ],
   "source": [
    "def remove_apostrophe(df, col):\n",
    "    df[col] = df[col].astype(str).apply(lambda x: re.sub(r\"'\", \"\", x))\n",
    "    return df\n",
    "\n",
    "# Create testing data\n",
    "data = {'text': [\"this's a string\", \"Otter's Den\", \"TGIFridays\", \"Applebee's\"]}\n",
    "df = pd.DataFrame(data)\n",
    "df = remove_apostrophe(df, 'text')\n",
    "\n",
    "# Test the function\n",
    "print(df)"
   ]
  },
  {
   "cell_type": "markdown",
   "metadata": {},
   "source": [
    "## Section 1: Helper Functions\n",
    "\n",
    "Some logic to convert the day column to lowercase and a check."
   ]
  },
  {
   "cell_type": "code",
   "execution_count": 8,
   "metadata": {},
   "outputs": [
    {
     "data": {
      "text/html": [
       "<div>\n",
       "<style scoped>\n",
       "    .dataframe tbody tr th:only-of-type {\n",
       "        vertical-align: middle;\n",
       "    }\n",
       "\n",
       "    .dataframe tbody tr th {\n",
       "        vertical-align: top;\n",
       "    }\n",
       "\n",
       "    .dataframe thead th {\n",
       "        text-align: right;\n",
       "    }\n",
       "</style>\n",
       "<table border=\"1\" class=\"dataframe\">\n",
       "  <thead>\n",
       "    <tr style=\"text-align: right;\">\n",
       "      <th></th>\n",
       "      <th>date</th>\n",
       "      <th>day</th>\n",
       "      <th>description</th>\n",
       "      <th>category</th>\n",
       "      <th>amount</th>\n",
       "    </tr>\n",
       "  </thead>\n",
       "  <tbody>\n",
       "    <tr>\n",
       "      <th>0</th>\n",
       "      <td>2023-12-01</td>\n",
       "      <td>friday</td>\n",
       "      <td>Tlatoani Barbershop</td>\n",
       "      <td>haircut</td>\n",
       "      <td>60.00</td>\n",
       "    </tr>\n",
       "    <tr>\n",
       "      <th>1</th>\n",
       "      <td>2023-12-01</td>\n",
       "      <td>friday</td>\n",
       "      <td>Andy's Boy</td>\n",
       "      <td>meds</td>\n",
       "      <td>60.00</td>\n",
       "    </tr>\n",
       "    <tr>\n",
       "      <th>2</th>\n",
       "      <td>2023-12-01</td>\n",
       "      <td>friday</td>\n",
       "      <td>Nob Hill Foods</td>\n",
       "      <td>drinks</td>\n",
       "      <td>13.43</td>\n",
       "    </tr>\n",
       "    <tr>\n",
       "      <th>3</th>\n",
       "      <td>2023-12-01</td>\n",
       "      <td>friday</td>\n",
       "      <td>TicketWeb</td>\n",
       "      <td>entertainment</td>\n",
       "      <td>49.20</td>\n",
       "    </tr>\n",
       "    <tr>\n",
       "      <th>4</th>\n",
       "      <td>2023-12-02</td>\n",
       "      <td>saturday</td>\n",
       "      <td>Lyft</td>\n",
       "      <td>rideshare</td>\n",
       "      <td>6.00</td>\n",
       "    </tr>\n",
       "  </tbody>\n",
       "</table>\n",
       "</div>"
      ],
      "text/plain": [
       "         date       day          description       category  amount\n",
       "0  2023-12-01    friday  Tlatoani Barbershop        haircut   60.00\n",
       "1  2023-12-01    friday           Andy's Boy           meds   60.00\n",
       "2  2023-12-01    friday       Nob Hill Foods         drinks   13.43\n",
       "3  2023-12-01    friday            TicketWeb  entertainment   49.20\n",
       "4  2023-12-02  saturday                 Lyft      rideshare    6.00"
      ]
     },
     "execution_count": 8,
     "metadata": {},
     "output_type": "execute_result"
    }
   ],
   "source": [
    "# Convert 'col1' to lowercase\n",
    "raw_data['day'] = raw_data['day'].str.lower()\n",
    "# Confirm previous operation\n",
    "raw_data.head()"
   ]
  },
  {
   "cell_type": "code",
   "execution_count": 9,
   "metadata": {},
   "outputs": [
    {
     "data": {
      "text/plain": [
       "array(['friday', 'saturday', 'sunday', 'monday', 'tuesday', 'wednesday',\n",
       "       'thursday'], dtype=object)"
      ]
     },
     "execution_count": 9,
     "metadata": {},
     "output_type": "execute_result"
    }
   ],
   "source": [
    "# Should get monday to sunday in lowercase\n",
    "raw_data['day'].unique()"
   ]
  },
  {
   "cell_type": "markdown",
   "metadata": {},
   "source": [
    "Want to buddle the logic above into a function to use in the DAG for this project."
   ]
  },
  {
   "cell_type": "code",
   "execution_count": 10,
   "metadata": {},
   "outputs": [],
   "source": [
    "def process_day_col(df):\n",
    "    \"\"\"Helper function to make all strings in day column lower case.\"\"\"\n",
    "    df['day'] = df['day'].str.lower()\n",
    "    return df"
   ]
  },
  {
   "cell_type": "markdown",
   "metadata": {},
   "source": [
    "Test the `process_day_col` function."
   ]
  },
  {
   "cell_type": "code",
   "execution_count": 11,
   "metadata": {},
   "outputs": [
    {
     "data": {
      "text/html": [
       "<div>\n",
       "<style scoped>\n",
       "    .dataframe tbody tr th:only-of-type {\n",
       "        vertical-align: middle;\n",
       "    }\n",
       "\n",
       "    .dataframe tbody tr th {\n",
       "        vertical-align: top;\n",
       "    }\n",
       "\n",
       "    .dataframe thead th {\n",
       "        text-align: right;\n",
       "    }\n",
       "</style>\n",
       "<table border=\"1\" class=\"dataframe\">\n",
       "  <thead>\n",
       "    <tr style=\"text-align: right;\">\n",
       "      <th></th>\n",
       "      <th>date</th>\n",
       "      <th>day</th>\n",
       "      <th>description</th>\n",
       "      <th>category</th>\n",
       "      <th>amount</th>\n",
       "    </tr>\n",
       "  </thead>\n",
       "  <tbody>\n",
       "    <tr>\n",
       "      <th>0</th>\n",
       "      <td>2023-12-01</td>\n",
       "      <td>friday</td>\n",
       "      <td>Tlatoani Barbershop</td>\n",
       "      <td>haircut</td>\n",
       "      <td>60.00</td>\n",
       "    </tr>\n",
       "    <tr>\n",
       "      <th>1</th>\n",
       "      <td>2023-12-01</td>\n",
       "      <td>friday</td>\n",
       "      <td>Andy's Boy</td>\n",
       "      <td>meds</td>\n",
       "      <td>60.00</td>\n",
       "    </tr>\n",
       "    <tr>\n",
       "      <th>2</th>\n",
       "      <td>2023-12-01</td>\n",
       "      <td>friday</td>\n",
       "      <td>Nob Hill Foods</td>\n",
       "      <td>drinks</td>\n",
       "      <td>13.43</td>\n",
       "    </tr>\n",
       "    <tr>\n",
       "      <th>3</th>\n",
       "      <td>2023-12-01</td>\n",
       "      <td>friday</td>\n",
       "      <td>TicketWeb</td>\n",
       "      <td>entertainment</td>\n",
       "      <td>49.20</td>\n",
       "    </tr>\n",
       "    <tr>\n",
       "      <th>4</th>\n",
       "      <td>2023-12-02</td>\n",
       "      <td>saturday</td>\n",
       "      <td>Lyft</td>\n",
       "      <td>rideshare</td>\n",
       "      <td>6.00</td>\n",
       "    </tr>\n",
       "  </tbody>\n",
       "</table>\n",
       "</div>"
      ],
      "text/plain": [
       "         date       day          description       category  amount\n",
       "0  2023-12-01    friday  Tlatoani Barbershop        haircut   60.00\n",
       "1  2023-12-01    friday           Andy's Boy           meds   60.00\n",
       "2  2023-12-01    friday       Nob Hill Foods         drinks   13.43\n",
       "3  2023-12-01    friday            TicketWeb  entertainment   49.20\n",
       "4  2023-12-02  saturday                 Lyft      rideshare    6.00"
      ]
     },
     "execution_count": 11,
     "metadata": {},
     "output_type": "execute_result"
    }
   ],
   "source": [
    "# Create a copy of the original df\n",
    "input_df = raw_data\n",
    "\n",
    "# Apply function to df copy and store in variable\n",
    "processed_df = process_day_col(input_df)\n",
    "\n",
    "# Should match output of raw_data.head()\n",
    "processed_df.head()"
   ]
  },
  {
   "cell_type": "markdown",
   "metadata": {},
   "source": [
    "Confirm the expected columns in the newly processed df."
   ]
  },
  {
   "cell_type": "code",
   "execution_count": 12,
   "metadata": {},
   "outputs": [
    {
     "data": {
      "text/plain": [
       "Index(['date', 'day', 'description', 'category', 'amount'], dtype='object')"
      ]
     },
     "execution_count": 12,
     "metadata": {},
     "output_type": "execute_result"
    }
   ],
   "source": [
    "processed_df.columns"
   ]
  },
  {
   "cell_type": "markdown",
   "metadata": {},
   "source": [
    "Function that reads a CSV file using Pandas, then creates SQL insert queries to insert data into a PostgreSQL table. *Nota Bene*: each transaction/row in the finances CSV file becomes its own query that will be inserted as a record in the new table."
   ]
  },
  {
   "cell_type": "code",
   "execution_count": 13,
   "metadata": {},
   "outputs": [],
   "source": [
    "def generate_insert_queries(filepath):\n",
    "    # Read the CSV file\n",
    "    df = pd.read_csv(filepath)\n",
    "    # Creae a list of SQL insert queries\n",
    "    insert_queries = []\n",
    "    for idx, row in df.iterrows():\n",
    "        insert_query = f\"INSERT INTO sample_table (date, 'day', 'description', 'category', amount) VALUES ({row['date']}, {row['day']}, {row['description']}, {row['category']}, {row['amount']});\"\n",
    "        insert_queries.append(insert_query)\n",
    "    # Save queries to a file for the SQL Operator to execute\n",
    "    with open('./data/insert_queries.sql', 'w') as f:\n",
    "        for query in insert_queries:\n",
    "            f.write(f\"{query}\\n\")\n"
   ]
  },
  {
   "cell_type": "code",
   "execution_count": 14,
   "metadata": {},
   "outputs": [],
   "source": [
    "generate_insert_queries(file_path)"
   ]
  },
  {
   "cell_type": "markdown",
   "metadata": {},
   "source": [
    "## Section 2: Accessing Database\n",
    "\n",
    "Will open a connection to the correct table in PostgreSQL and (just as importantly) close the connection. While open, will obtain some Pandas dataframes."
   ]
  },
  {
   "cell_type": "code",
   "execution_count": 15,
   "metadata": {},
   "outputs": [
    {
     "name": "stderr",
     "output_type": "stream",
     "text": [
      "/tmp/ipykernel_4373/2353456509.py:24: UserWarning: pandas only supports SQLAlchemy connectable (engine/connection) or database string URI or sqlite3 DBAPI2 connection. Other DBAPI2 objects are not tested. Please consider using SQLAlchemy.\n",
      "  plot_1 = pd.read_sql_query(query, conn)\n",
      "/tmp/ipykernel_4373/2353456509.py:26: UserWarning: pandas only supports SQLAlchemy connectable (engine/connection) or database string URI or sqlite3 DBAPI2 connection. Other DBAPI2 objects are not tested. Please consider using SQLAlchemy.\n",
      "  plot_3 = pd.read_sql_query(query_2, conn)\n"
     ]
    }
   ],
   "source": [
    "# Read the config file\n",
    "with open(\"config.yaml\", \"r\") as file:\n",
    "    config = yaml.safe_load(file)\n",
    "\n",
    "# Create a connection to db server\n",
    "conn = psycopg2.connect(\n",
    "    f\"host={config[\"server\"][\"host\"]} \\\n",
    "    dbname={config[\"database\"][\"name\"]} \\\n",
    "    user={config[\"database\"][\"user\"]} \\\n",
    "    password={config[\"database\"][\"password\"]} \\\n",
    "    \"\n",
    ")\n",
    "\n",
    "# Define query\n",
    "query = \"SELECT * FROM dec_2023;\"\n",
    "\n",
    "# Time series query\n",
    "query_2 = \"SELECT date, SUM(amount) \\\n",
    "    FROM dec_2023 \\\n",
    "    GROUP BY date \\\n",
    "    ORDER BY date ASC;\"\n",
    "\n",
    "# Import query results into df's\n",
    "plot_1 = pd.read_sql_query(query, conn)\n",
    "plot_2 = rm_plot2_cols(plot_1)\n",
    "plot_3 = pd.read_sql_query(query_2, conn)\n",
    "plot_4 = process_plot4(plot_1)\n",
    "# Want one copy of the Plot 1 data for experimentation\n",
    "df = plot_1\n",
    "\n",
    "# Close the connection\n",
    "conn.close()"
   ]
  },
  {
   "cell_type": "markdown",
   "metadata": {},
   "source": [
    "An experimental function that creates a new column that is the proportion spent per description."
   ]
  },
  {
   "cell_type": "code",
   "execution_count": 16,
   "metadata": {},
   "outputs": [
    {
     "name": "stdout",
     "output_type": "stream",
     "text": [
      "                     description  amount  proportion\n",
      "30     Lazy Dog Restaurant & Bar   64.00    0.015100\n",
      "36                        Mezcal   73.74    0.017398\n",
      "61             Total Wine & More   75.06    0.017709\n",
      "31       Lighthouse Publications   75.40    0.017790\n",
      "19  Dubber's Oldtown Bar & Grill   79.74    0.018814\n",
      "4                BJ's Restaurant   87.69    0.020689\n",
      "3                     Applebee's   92.21    0.021756\n",
      "42                Nob Hill Foods   95.16    0.022452\n",
      "12      California Pizza Kitchen  102.82    0.024259\n",
      "32                          Lyft  103.53    0.024427\n",
      "57        The Cheesecake Factory  108.16    0.025519\n",
      "66                          Vans  120.19    0.028357\n",
      "8               Beverages & More  120.29    0.028381\n",
      "28                         Kohls  120.79    0.028499\n",
      "10            Buffalo Wild Wings  176.98    0.041756\n",
      "60           Tlatoani Barbershop  180.00    0.042469\n",
      "45               Pandora Jewelry  224.48    0.052963\n",
      "22                  Hilton Hotel  259.66    0.061264\n",
      "17               Crystal - Venmo  450.00    0.106172\n",
      "41                        Nelnet  528.30    0.124646\n"
     ]
    }
   ],
   "source": [
    "def process_plot4(df):\n",
    "    \"\"\"All the processing for plot 4.\"\"\"\n",
    "    # Total spent\n",
    "    total_spent = df['amount'].sum().round(2)\n",
    "    # Remove unnecessary columns\n",
    "    df = df.drop(columns=['txn_id', 'date', 'day', 'category'])\n",
    "    # Group By\n",
    "    df = df.groupby('description', as_index=False).sum()\n",
    "    # Compute new column\n",
    "    df['proportion'] = df.apply(lambda row: row['amount'] / total_spent, axis=1)\n",
    "    df = df.sort_values(by='proportion', ascending=True)\n",
    "    df = df.tail(20)\n",
    "    return df\n",
    "\n",
    "x = process_plot4(plot_1)\n",
    "print(x)"
   ]
  },
  {
   "cell_type": "markdown",
   "metadata": {},
   "source": [
    "A quick view of the newly processed data (from a couple cells ago) that will be used for plotting."
   ]
  },
  {
   "cell_type": "code",
   "execution_count": 17,
   "metadata": {},
   "outputs": [
    {
     "data": {
      "text/html": [
       "<div>\n",
       "<style scoped>\n",
       "    .dataframe tbody tr th:only-of-type {\n",
       "        vertical-align: middle;\n",
       "    }\n",
       "\n",
       "    .dataframe tbody tr th {\n",
       "        vertical-align: top;\n",
       "    }\n",
       "\n",
       "    .dataframe thead th {\n",
       "        text-align: right;\n",
       "    }\n",
       "</style>\n",
       "<table border=\"1\" class=\"dataframe\">\n",
       "  <thead>\n",
       "    <tr style=\"text-align: right;\">\n",
       "      <th></th>\n",
       "      <th>txn_id</th>\n",
       "      <th>date</th>\n",
       "      <th>day</th>\n",
       "      <th>description</th>\n",
       "      <th>category</th>\n",
       "      <th>amount</th>\n",
       "    </tr>\n",
       "  </thead>\n",
       "  <tbody>\n",
       "    <tr>\n",
       "      <th>0</th>\n",
       "      <td>0</td>\n",
       "      <td>2023-12-01</td>\n",
       "      <td>friday</td>\n",
       "      <td>Tlatoani Barbershop</td>\n",
       "      <td>haircut</td>\n",
       "      <td>60.00</td>\n",
       "    </tr>\n",
       "    <tr>\n",
       "      <th>1</th>\n",
       "      <td>1</td>\n",
       "      <td>2023-12-01</td>\n",
       "      <td>friday</td>\n",
       "      <td>Nob Hill Foods</td>\n",
       "      <td>drinks</td>\n",
       "      <td>13.43</td>\n",
       "    </tr>\n",
       "    <tr>\n",
       "      <th>2</th>\n",
       "      <td>2</td>\n",
       "      <td>2023-12-01</td>\n",
       "      <td>friday</td>\n",
       "      <td>TicketWeb</td>\n",
       "      <td>entertainment</td>\n",
       "      <td>49.20</td>\n",
       "    </tr>\n",
       "    <tr>\n",
       "      <th>3</th>\n",
       "      <td>3</td>\n",
       "      <td>2023-12-02</td>\n",
       "      <td>saturday</td>\n",
       "      <td>Lyft</td>\n",
       "      <td>rideshare</td>\n",
       "      <td>6.00</td>\n",
       "    </tr>\n",
       "    <tr>\n",
       "      <th>4</th>\n",
       "      <td>4</td>\n",
       "      <td>2023-12-02</td>\n",
       "      <td>saturday</td>\n",
       "      <td>street vendor</td>\n",
       "      <td>eating out</td>\n",
       "      <td>5.00</td>\n",
       "    </tr>\n",
       "    <tr>\n",
       "      <th>5</th>\n",
       "      <td>5</td>\n",
       "      <td>2023-12-02</td>\n",
       "      <td>saturday</td>\n",
       "      <td>Hilton Hotel</td>\n",
       "      <td>hotels</td>\n",
       "      <td>259.66</td>\n",
       "    </tr>\n",
       "    <tr>\n",
       "      <th>6</th>\n",
       "      <td>6</td>\n",
       "      <td>2023-12-02</td>\n",
       "      <td>saturday</td>\n",
       "      <td>Mezcal</td>\n",
       "      <td>restaurant</td>\n",
       "      <td>73.74</td>\n",
       "    </tr>\n",
       "    <tr>\n",
       "      <th>7</th>\n",
       "      <td>7</td>\n",
       "      <td>2023-12-02</td>\n",
       "      <td>saturday</td>\n",
       "      <td>The Cheesecake Factory</td>\n",
       "      <td>restaurant</td>\n",
       "      <td>108.16</td>\n",
       "    </tr>\n",
       "    <tr>\n",
       "      <th>8</th>\n",
       "      <td>8</td>\n",
       "      <td>2023-12-02</td>\n",
       "      <td>saturday</td>\n",
       "      <td>Beverages &amp; More</td>\n",
       "      <td>miscellaneous</td>\n",
       "      <td>26.88</td>\n",
       "    </tr>\n",
       "    <tr>\n",
       "      <th>9</th>\n",
       "      <td>9</td>\n",
       "      <td>2023-12-02</td>\n",
       "      <td>saturday</td>\n",
       "      <td>Lyft</td>\n",
       "      <td>rideshare</td>\n",
       "      <td>15.85</td>\n",
       "    </tr>\n",
       "  </tbody>\n",
       "</table>\n",
       "</div>"
      ],
      "text/plain": [
       "   txn_id        date       day             description       category  amount\n",
       "0       0  2023-12-01    friday     Tlatoani Barbershop        haircut   60.00\n",
       "1       1  2023-12-01    friday          Nob Hill Foods         drinks   13.43\n",
       "2       2  2023-12-01    friday               TicketWeb  entertainment   49.20\n",
       "3       3  2023-12-02  saturday                    Lyft      rideshare    6.00\n",
       "4       4  2023-12-02  saturday           street vendor     eating out    5.00\n",
       "5       5  2023-12-02  saturday            Hilton Hotel         hotels  259.66\n",
       "6       6  2023-12-02  saturday                  Mezcal     restaurant   73.74\n",
       "7       7  2023-12-02  saturday  The Cheesecake Factory     restaurant  108.16\n",
       "8       8  2023-12-02  saturday        Beverages & More  miscellaneous   26.88\n",
       "9       9  2023-12-02  saturday                    Lyft      rideshare   15.85"
      ]
     },
     "execution_count": 17,
     "metadata": {},
     "output_type": "execute_result"
    }
   ],
   "source": [
    "# Plot 1 Data\n",
    "plot_1.head(10)"
   ]
  },
  {
   "cell_type": "markdown",
   "metadata": {},
   "source": [
    "More processing of Plot 1 that uses a GROUP BY operation to get total spent per category."
   ]
  },
  {
   "cell_type": "code",
   "execution_count": 18,
   "metadata": {},
   "outputs": [
    {
     "data": {
      "text/html": [
       "<div>\n",
       "<style scoped>\n",
       "    .dataframe tbody tr th:only-of-type {\n",
       "        vertical-align: middle;\n",
       "    }\n",
       "\n",
       "    .dataframe tbody tr th {\n",
       "        vertical-align: top;\n",
       "    }\n",
       "\n",
       "    .dataframe thead th {\n",
       "        text-align: right;\n",
       "    }\n",
       "</style>\n",
       "<table border=\"1\" class=\"dataframe\">\n",
       "  <thead>\n",
       "    <tr style=\"text-align: right;\">\n",
       "      <th></th>\n",
       "      <th>category</th>\n",
       "      <th>amount</th>\n",
       "    </tr>\n",
       "  </thead>\n",
       "  <tbody>\n",
       "    <tr>\n",
       "      <th>18</th>\n",
       "      <td>restaurant</td>\n",
       "      <td>851.74</td>\n",
       "    </tr>\n",
       "    <tr>\n",
       "      <th>10</th>\n",
       "      <td>gifts</td>\n",
       "      <td>646.35</td>\n",
       "    </tr>\n",
       "    <tr>\n",
       "      <th>20</th>\n",
       "      <td>student loans</td>\n",
       "      <td>528.30</td>\n",
       "    </tr>\n",
       "    <tr>\n",
       "      <th>2</th>\n",
       "      <td>child support</td>\n",
       "      <td>450.00</td>\n",
       "    </tr>\n",
       "    <tr>\n",
       "      <th>3</th>\n",
       "      <td>drinks</td>\n",
       "      <td>345.08</td>\n",
       "    </tr>\n",
       "    <tr>\n",
       "      <th>14</th>\n",
       "      <td>hotels</td>\n",
       "      <td>259.66</td>\n",
       "    </tr>\n",
       "    <tr>\n",
       "      <th>4</th>\n",
       "      <td>eating out</td>\n",
       "      <td>200.74</td>\n",
       "    </tr>\n",
       "    <tr>\n",
       "      <th>13</th>\n",
       "      <td>haircut</td>\n",
       "      <td>180.00</td>\n",
       "    </tr>\n",
       "    <tr>\n",
       "      <th>15</th>\n",
       "      <td>miscellaneous</td>\n",
       "      <td>158.14</td>\n",
       "    </tr>\n",
       "    <tr>\n",
       "      <th>11</th>\n",
       "      <td>groceries</td>\n",
       "      <td>126.05</td>\n",
       "    </tr>\n",
       "  </tbody>\n",
       "</table>\n",
       "</div>"
      ],
      "text/plain": [
       "         category  amount\n",
       "18     restaurant  851.74\n",
       "10          gifts  646.35\n",
       "20  student loans  528.30\n",
       "2   child support  450.00\n",
       "3          drinks  345.08\n",
       "14         hotels  259.66\n",
       "4      eating out  200.74\n",
       "13        haircut  180.00\n",
       "15  miscellaneous  158.14\n",
       "11      groceries  126.05"
      ]
     },
     "execution_count": 18,
     "metadata": {},
     "output_type": "execute_result"
    }
   ],
   "source": [
    "plot_1 = plot_1.drop(columns=['txn_id', 'date', 'day', 'description'])\n",
    "plot_1 = plot_1.groupby('category', as_index=False).sum()\n",
    "plot_1 = plot_1.sort_values(by='amount', ascending=False)\n",
    "plot_1.head(10)"
   ]
  },
  {
   "cell_type": "markdown",
   "metadata": {},
   "source": [
    "A simple pandas-based bar plot of Plot 1."
   ]
  },
  {
   "cell_type": "code",
   "execution_count": 19,
   "metadata": {},
   "outputs": [
    {
     "data": {
      "text/plain": [
       "<Axes: xlabel='category'>"
      ]
     },
     "execution_count": 19,
     "metadata": {},
     "output_type": "execute_result"
    },
    {
     "data": {
      "image/png": "[encoded data removed]",
      "text/plain": [
       "<Figure size 640x480 with 1 Axes>"
      ]
     },
     "metadata": {},
     "output_type": "display_data"
    }
   ],
   "source": [
    "plot_1.plot('category', 'amount', kind='bar')"
   ]
  },
  {
   "cell_type": "code",
   "execution_count": 20,
   "metadata": {},
   "outputs": [
    {
     "data": {
      "text/html": [
       "<div>\n",
       "<style scoped>\n",
       "    .dataframe tbody tr th:only-of-type {\n",
       "        vertical-align: middle;\n",
       "    }\n",
       "\n",
       "    .dataframe tbody tr th {\n",
       "        vertical-align: top;\n",
       "    }\n",
       "\n",
       "    .dataframe thead th {\n",
       "        text-align: right;\n",
       "    }\n",
       "</style>\n",
       "<table border=\"1\" class=\"dataframe\">\n",
       "  <thead>\n",
       "    <tr style=\"text-align: right;\">\n",
       "      <th></th>\n",
       "      <th>category</th>\n",
       "      <th>amount</th>\n",
       "    </tr>\n",
       "  </thead>\n",
       "  <tbody>\n",
       "    <tr>\n",
       "      <th>0</th>\n",
       "      <td>haircut</td>\n",
       "      <td>60.00</td>\n",
       "    </tr>\n",
       "    <tr>\n",
       "      <th>1</th>\n",
       "      <td>drinks</td>\n",
       "      <td>13.43</td>\n",
       "    </tr>\n",
       "    <tr>\n",
       "      <th>2</th>\n",
       "      <td>entertainment</td>\n",
       "      <td>49.20</td>\n",
       "    </tr>\n",
       "    <tr>\n",
       "      <th>3</th>\n",
       "      <td>rideshare</td>\n",
       "      <td>6.00</td>\n",
       "    </tr>\n",
       "    <tr>\n",
       "      <th>4</th>\n",
       "      <td>eating out</td>\n",
       "      <td>5.00</td>\n",
       "    </tr>\n",
       "    <tr>\n",
       "      <th>5</th>\n",
       "      <td>hotels</td>\n",
       "      <td>259.66</td>\n",
       "    </tr>\n",
       "    <tr>\n",
       "      <th>6</th>\n",
       "      <td>restaurant</td>\n",
       "      <td>73.74</td>\n",
       "    </tr>\n",
       "    <tr>\n",
       "      <th>7</th>\n",
       "      <td>restaurant</td>\n",
       "      <td>108.16</td>\n",
       "    </tr>\n",
       "    <tr>\n",
       "      <th>8</th>\n",
       "      <td>miscellaneous</td>\n",
       "      <td>26.88</td>\n",
       "    </tr>\n",
       "    <tr>\n",
       "      <th>9</th>\n",
       "      <td>rideshare</td>\n",
       "      <td>15.85</td>\n",
       "    </tr>\n",
       "  </tbody>\n",
       "</table>\n",
       "</div>"
      ],
      "text/plain": [
       "        category  amount\n",
       "0        haircut   60.00\n",
       "1         drinks   13.43\n",
       "2  entertainment   49.20\n",
       "3      rideshare    6.00\n",
       "4     eating out    5.00\n",
       "5         hotels  259.66\n",
       "6     restaurant   73.74\n",
       "7     restaurant  108.16\n",
       "8  miscellaneous   26.88\n",
       "9      rideshare   15.85"
      ]
     },
     "execution_count": 20,
     "metadata": {},
     "output_type": "execute_result"
    }
   ],
   "source": [
    "# Plot 2 Data\n",
    "plot_2.head(10)"
   ]
  },
  {
   "cell_type": "code",
   "execution_count": 21,
   "metadata": {},
   "outputs": [
    {
     "data": {
      "text/html": [
       "<div>\n",
       "<style scoped>\n",
       "    .dataframe tbody tr th:only-of-type {\n",
       "        vertical-align: middle;\n",
       "    }\n",
       "\n",
       "    .dataframe tbody tr th {\n",
       "        vertical-align: top;\n",
       "    }\n",
       "\n",
       "    .dataframe thead th {\n",
       "        text-align: right;\n",
       "    }\n",
       "</style>\n",
       "<table border=\"1\" class=\"dataframe\">\n",
       "  <thead>\n",
       "    <tr style=\"text-align: right;\">\n",
       "      <th></th>\n",
       "      <th>date</th>\n",
       "      <th>sum</th>\n",
       "    </tr>\n",
       "  </thead>\n",
       "  <tbody>\n",
       "    <tr>\n",
       "      <th>0</th>\n",
       "      <td>2023-12-01</td>\n",
       "      <td>122.63</td>\n",
       "    </tr>\n",
       "    <tr>\n",
       "      <th>1</th>\n",
       "      <td>2023-12-02</td>\n",
       "      <td>534.11</td>\n",
       "    </tr>\n",
       "    <tr>\n",
       "      <th>2</th>\n",
       "      <td>2023-12-03</td>\n",
       "      <td>74.03</td>\n",
       "    </tr>\n",
       "    <tr>\n",
       "      <th>3</th>\n",
       "      <td>2023-12-04</td>\n",
       "      <td>93.61</td>\n",
       "    </tr>\n",
       "    <tr>\n",
       "      <th>4</th>\n",
       "      <td>2023-12-05</td>\n",
       "      <td>5.13</td>\n",
       "    </tr>\n",
       "  </tbody>\n",
       "</table>\n",
       "</div>"
      ],
      "text/plain": [
       "         date     sum\n",
       "0  2023-12-01  122.63\n",
       "1  2023-12-02  534.11\n",
       "2  2023-12-03   74.03\n",
       "3  2023-12-04   93.61\n",
       "4  2023-12-05    5.13"
      ]
     },
     "execution_count": 21,
     "metadata": {},
     "output_type": "execute_result"
    }
   ],
   "source": [
    "# Plot 3 Data\n",
    "plot_3.head()"
   ]
  },
  {
   "cell_type": "markdown",
   "metadata": {},
   "source": [
    "Save the Plot 3 as Plot 4 CSV. This is time-based data."
   ]
  },
  {
   "cell_type": "code",
   "execution_count": 22,
   "metadata": {},
   "outputs": [],
   "source": [
    "plot_3.to_csv('data/plot4_data.csv', index=False)"
   ]
  },
  {
   "cell_type": "markdown",
   "metadata": {},
   "source": [
    "## Section 3: Plotting Processed Data\n",
    "\n",
    "Following is some scratchwork with the data and plots that will be used in the Shiny App."
   ]
  },
  {
   "cell_type": "markdown",
   "metadata": {},
   "source": [
    "Recall copy created earlier of Plot 1 data to experiment with some data manipulation."
   ]
  },
  {
   "cell_type": "code",
   "execution_count": 23,
   "metadata": {},
   "outputs": [
    {
     "name": "stdout",
     "output_type": "stream",
     "text": [
      "   txn_id        date       day             description       category  amount\n",
      "0       0  2023-12-01    friday     Tlatoani Barbershop        haircut   60.00\n",
      "1       1  2023-12-01    friday          Nob Hill Foods         drinks   13.43\n",
      "2       2  2023-12-01    friday               TicketWeb  entertainment   49.20\n",
      "3       3  2023-12-02  saturday                    Lyft      rideshare    6.00\n",
      "4       4  2023-12-02  saturday           street vendor     eating out    5.00\n",
      "5       5  2023-12-02  saturday            Hilton Hotel         hotels  259.66\n",
      "6       6  2023-12-02  saturday                  Mezcal     restaurant   73.74\n",
      "7       7  2023-12-02  saturday  The Cheesecake Factory     restaurant  108.16\n",
      "8       8  2023-12-02  saturday        Beverages & More  miscellaneous   26.88\n",
      "9       9  2023-12-02  saturday                    Lyft      rideshare   15.85\n"
     ]
    }
   ],
   "source": [
    "# Verify contents of \"df\"\n",
    "print(df.head(10))"
   ]
  },
  {
   "cell_type": "code",
   "execution_count": 24,
   "metadata": {},
   "outputs": [
    {
     "name": "stdout",
     "output_type": "stream",
     "text": [
      "float64\n"
     ]
    }
   ],
   "source": [
    "print(df['amount'].dtype)"
   ]
  },
  {
   "cell_type": "markdown",
   "metadata": {},
   "source": [
    "Logic above confirms that the amount (in US dollars) column is a float64 data type. So, don't need to use the logic belove to cast as a float 64 type, but available if nedeed."
   ]
  },
  {
   "cell_type": "code",
   "execution_count": 25,
   "metadata": {},
   "outputs": [],
   "source": [
    "# df['amount'] = df['amount'].astype(float)"
   ]
  },
  {
   "cell_type": "markdown",
   "metadata": {},
   "source": [
    "Example use of the box plot from the amount column in the \"df\" dataframe."
   ]
  },
  {
   "cell_type": "code",
   "execution_count": 26,
   "metadata": {},
   "outputs": [
    {
     "data": {
      "text/plain": [
       "<Axes: >"
      ]
     },
     "execution_count": 26,
     "metadata": {},
     "output_type": "execute_result"
    },
    {
     "data": {
      "image/png": "[encoded data removed]",
      "text/plain": [
       "<Figure size 640x480 with 1 Axes>"
      ]
     },
     "metadata": {},
     "output_type": "display_data"
    }
   ],
   "source": [
    "df.plot(\n",
    "    kind = 'box',\n",
    "    x = 'category',\n",
    "    y = 'amount'\n",
    ")"
   ]
  },
  {
   "cell_type": "markdown",
   "metadata": {},
   "source": [
    "Want to add an index column to the dataframe. The postgres table has index column \"txn_id\" that is unique to each transaction and is the primary serial key for each table."
   ]
  },
  {
   "cell_type": "code",
   "execution_count": 27,
   "metadata": {},
   "outputs": [
    {
     "data": {
      "text/html": [
       "<div>\n",
       "<style scoped>\n",
       "    .dataframe tbody tr th:only-of-type {\n",
       "        vertical-align: middle;\n",
       "    }\n",
       "\n",
       "    .dataframe tbody tr th {\n",
       "        vertical-align: top;\n",
       "    }\n",
       "\n",
       "    .dataframe thead th {\n",
       "        text-align: right;\n",
       "    }\n",
       "</style>\n",
       "<table border=\"1\" class=\"dataframe\">\n",
       "  <thead>\n",
       "    <tr style=\"text-align: right;\">\n",
       "      <th></th>\n",
       "      <th>date</th>\n",
       "      <th>day</th>\n",
       "      <th>description</th>\n",
       "      <th>category</th>\n",
       "      <th>amount</th>\n",
       "    </tr>\n",
       "  </thead>\n",
       "  <tbody>\n",
       "    <tr>\n",
       "      <th>0</th>\n",
       "      <td>2023-12-01</td>\n",
       "      <td>friday</td>\n",
       "      <td>Tlatoani Barbershop</td>\n",
       "      <td>haircut</td>\n",
       "      <td>60.00</td>\n",
       "    </tr>\n",
       "    <tr>\n",
       "      <th>1</th>\n",
       "      <td>2023-12-01</td>\n",
       "      <td>friday</td>\n",
       "      <td>Andy's Boy</td>\n",
       "      <td>meds</td>\n",
       "      <td>60.00</td>\n",
       "    </tr>\n",
       "    <tr>\n",
       "      <th>2</th>\n",
       "      <td>2023-12-01</td>\n",
       "      <td>friday</td>\n",
       "      <td>Nob Hill Foods</td>\n",
       "      <td>drinks</td>\n",
       "      <td>13.43</td>\n",
       "    </tr>\n",
       "    <tr>\n",
       "      <th>3</th>\n",
       "      <td>2023-12-01</td>\n",
       "      <td>friday</td>\n",
       "      <td>TicketWeb</td>\n",
       "      <td>entertainment</td>\n",
       "      <td>49.20</td>\n",
       "    </tr>\n",
       "    <tr>\n",
       "      <th>4</th>\n",
       "      <td>2023-12-02</td>\n",
       "      <td>saturday</td>\n",
       "      <td>Lyft</td>\n",
       "      <td>rideshare</td>\n",
       "      <td>6.00</td>\n",
       "    </tr>\n",
       "    <tr>\n",
       "      <th>5</th>\n",
       "      <td>2023-12-02</td>\n",
       "      <td>saturday</td>\n",
       "      <td>street vendor</td>\n",
       "      <td>eating out</td>\n",
       "      <td>5.00</td>\n",
       "    </tr>\n",
       "    <tr>\n",
       "      <th>6</th>\n",
       "      <td>2023-12-02</td>\n",
       "      <td>saturday</td>\n",
       "      <td>Hilton Hotel</td>\n",
       "      <td>hotels</td>\n",
       "      <td>259.66</td>\n",
       "    </tr>\n",
       "    <tr>\n",
       "      <th>7</th>\n",
       "      <td>2023-12-02</td>\n",
       "      <td>saturday</td>\n",
       "      <td>Mezcal</td>\n",
       "      <td>restaurant</td>\n",
       "      <td>73.74</td>\n",
       "    </tr>\n",
       "    <tr>\n",
       "      <th>8</th>\n",
       "      <td>2023-12-02</td>\n",
       "      <td>saturday</td>\n",
       "      <td>The Cheesecake Factory</td>\n",
       "      <td>restaurant</td>\n",
       "      <td>108.16</td>\n",
       "    </tr>\n",
       "    <tr>\n",
       "      <th>9</th>\n",
       "      <td>2023-12-02</td>\n",
       "      <td>saturday</td>\n",
       "      <td>Beverages &amp; More</td>\n",
       "      <td>miscellaneous</td>\n",
       "      <td>26.88</td>\n",
       "    </tr>\n",
       "  </tbody>\n",
       "</table>\n",
       "</div>"
      ],
      "text/plain": [
       "         date       day             description       category  amount\n",
       "0  2023-12-01    friday     Tlatoani Barbershop        haircut   60.00\n",
       "1  2023-12-01    friday              Andy's Boy           meds   60.00\n",
       "2  2023-12-01    friday          Nob Hill Foods         drinks   13.43\n",
       "3  2023-12-01    friday               TicketWeb  entertainment   49.20\n",
       "4  2023-12-02  saturday                    Lyft      rideshare    6.00\n",
       "5  2023-12-02  saturday           street vendor     eating out    5.00\n",
       "6  2023-12-02  saturday            Hilton Hotel         hotels  259.66\n",
       "7  2023-12-02  saturday                  Mezcal     restaurant   73.74\n",
       "8  2023-12-02  saturday  The Cheesecake Factory     restaurant  108.16\n",
       "9  2023-12-02  saturday        Beverages & More  miscellaneous   26.88"
      ]
     },
     "execution_count": 27,
     "metadata": {},
     "output_type": "execute_result"
    }
   ],
   "source": [
    "processed_df.head(10)"
   ]
  },
  {
   "cell_type": "code",
   "execution_count": 28,
   "metadata": {},
   "outputs": [
    {
     "data": {
      "text/html": [
       "<div>\n",
       "<style scoped>\n",
       "    .dataframe tbody tr th:only-of-type {\n",
       "        vertical-align: middle;\n",
       "    }\n",
       "\n",
       "    .dataframe tbody tr th {\n",
       "        vertical-align: top;\n",
       "    }\n",
       "\n",
       "    .dataframe thead th {\n",
       "        text-align: right;\n",
       "    }\n",
       "</style>\n",
       "<table border=\"1\" class=\"dataframe\">\n",
       "  <thead>\n",
       "    <tr style=\"text-align: right;\">\n",
       "      <th></th>\n",
       "      <th>txn_id</th>\n",
       "      <th>date</th>\n",
       "      <th>day</th>\n",
       "      <th>description</th>\n",
       "      <th>category</th>\n",
       "      <th>amount</th>\n",
       "    </tr>\n",
       "  </thead>\n",
       "  <tbody>\n",
       "    <tr>\n",
       "      <th>100</th>\n",
       "      <td>100</td>\n",
       "      <td>2023-12-30</td>\n",
       "      <td>saturday</td>\n",
       "      <td>Lazy Dog Restaurant &amp; Bar</td>\n",
       "      <td>restaurant</td>\n",
       "      <td>64.00</td>\n",
       "    </tr>\n",
       "    <tr>\n",
       "      <th>101</th>\n",
       "      <td>101</td>\n",
       "      <td>2023-12-30</td>\n",
       "      <td>saturday</td>\n",
       "      <td>Best Buy</td>\n",
       "      <td>electronics</td>\n",
       "      <td>19.69</td>\n",
       "    </tr>\n",
       "    <tr>\n",
       "      <th>102</th>\n",
       "      <td>102</td>\n",
       "      <td>2023-12-30</td>\n",
       "      <td>saturday</td>\n",
       "      <td>Lyft</td>\n",
       "      <td>rideshare</td>\n",
       "      <td>18.99</td>\n",
       "    </tr>\n",
       "    <tr>\n",
       "      <th>103</th>\n",
       "      <td>103</td>\n",
       "      <td>2023-12-30</td>\n",
       "      <td>saturday</td>\n",
       "      <td>Circle K</td>\n",
       "      <td>groceries</td>\n",
       "      <td>3.64</td>\n",
       "    </tr>\n",
       "    <tr>\n",
       "      <th>104</th>\n",
       "      <td>104</td>\n",
       "      <td>2023-12-30</td>\n",
       "      <td>saturday</td>\n",
       "      <td>Applebee's</td>\n",
       "      <td>restaurant</td>\n",
       "      <td>45.21</td>\n",
       "    </tr>\n",
       "    <tr>\n",
       "      <th>105</th>\n",
       "      <td>105</td>\n",
       "      <td>2023-12-30</td>\n",
       "      <td>saturday</td>\n",
       "      <td>Mira Mesa Crown Liquor</td>\n",
       "      <td>drinks</td>\n",
       "      <td>17.99</td>\n",
       "    </tr>\n",
       "    <tr>\n",
       "      <th>106</th>\n",
       "      <td>106</td>\n",
       "      <td>2023-12-30</td>\n",
       "      <td>saturday</td>\n",
       "      <td>Chevron</td>\n",
       "      <td>groceries</td>\n",
       "      <td>2.79</td>\n",
       "    </tr>\n",
       "    <tr>\n",
       "      <th>107</th>\n",
       "      <td>107</td>\n",
       "      <td>2023-12-30</td>\n",
       "      <td>saturday</td>\n",
       "      <td>Hyatt House</td>\n",
       "      <td>parking</td>\n",
       "      <td>16.00</td>\n",
       "    </tr>\n",
       "    <tr>\n",
       "      <th>108</th>\n",
       "      <td>108</td>\n",
       "      <td>2023-12-31</td>\n",
       "      <td>sunday</td>\n",
       "      <td>Quick Mart</td>\n",
       "      <td>drinks</td>\n",
       "      <td>12.58</td>\n",
       "    </tr>\n",
       "    <tr>\n",
       "      <th>109</th>\n",
       "      <td>109</td>\n",
       "      <td>2023-12-31</td>\n",
       "      <td>sunday</td>\n",
       "      <td>76 Fuel</td>\n",
       "      <td>groceries</td>\n",
       "      <td>3.32</td>\n",
       "    </tr>\n",
       "  </tbody>\n",
       "</table>\n",
       "</div>"
      ],
      "text/plain": [
       "     txn_id        date       day                description     category  \\\n",
       "100     100  2023-12-30  saturday  Lazy Dog Restaurant & Bar   restaurant   \n",
       "101     101  2023-12-30  saturday                   Best Buy  electronics   \n",
       "102     102  2023-12-30  saturday                       Lyft    rideshare   \n",
       "103     103  2023-12-30  saturday                   Circle K    groceries   \n",
       "104     104  2023-12-30  saturday                 Applebee's   restaurant   \n",
       "105     105  2023-12-30  saturday     Mira Mesa Crown Liquor       drinks   \n",
       "106     106  2023-12-30  saturday                    Chevron    groceries   \n",
       "107     107  2023-12-30  saturday                Hyatt House      parking   \n",
       "108     108  2023-12-31    sunday                 Quick Mart       drinks   \n",
       "109     109  2023-12-31    sunday                    76 Fuel    groceries   \n",
       "\n",
       "     amount  \n",
       "100   64.00  \n",
       "101   19.69  \n",
       "102   18.99  \n",
       "103    3.64  \n",
       "104   45.21  \n",
       "105   17.99  \n",
       "106    2.79  \n",
       "107   16.00  \n",
       "108   12.58  \n",
       "109    3.32  "
      ]
     },
     "execution_count": 28,
     "metadata": {},
     "output_type": "execute_result"
    }
   ],
   "source": [
    "processed_df.insert(0, 'txn_id', range(len(processed_df)))\n",
    "processed_df.tail(10)"
   ]
  },
  {
   "cell_type": "markdown",
   "metadata": {},
   "source": [
    "Following is logic to create plots for the Shiny app. Will make another copy of the \"df\" dataframe."
   ]
  },
  {
   "cell_type": "code",
   "execution_count": 29,
   "metadata": {},
   "outputs": [
    {
     "data": {
      "text/html": [
       "<div>\n",
       "<style scoped>\n",
       "    .dataframe tbody tr th:only-of-type {\n",
       "        vertical-align: middle;\n",
       "    }\n",
       "\n",
       "    .dataframe tbody tr th {\n",
       "        vertical-align: top;\n",
       "    }\n",
       "\n",
       "    .dataframe thead th {\n",
       "        text-align: right;\n",
       "    }\n",
       "</style>\n",
       "<table border=\"1\" class=\"dataframe\">\n",
       "  <thead>\n",
       "    <tr style=\"text-align: right;\">\n",
       "      <th></th>\n",
       "      <th>txn_id</th>\n",
       "      <th>date</th>\n",
       "      <th>day</th>\n",
       "      <th>description</th>\n",
       "      <th>category</th>\n",
       "      <th>amount</th>\n",
       "    </tr>\n",
       "  </thead>\n",
       "  <tbody>\n",
       "    <tr>\n",
       "      <th>0</th>\n",
       "      <td>0</td>\n",
       "      <td>2023-12-01</td>\n",
       "      <td>friday</td>\n",
       "      <td>Tlatoani Barbershop</td>\n",
       "      <td>haircut</td>\n",
       "      <td>60.00</td>\n",
       "    </tr>\n",
       "    <tr>\n",
       "      <th>1</th>\n",
       "      <td>1</td>\n",
       "      <td>2023-12-01</td>\n",
       "      <td>friday</td>\n",
       "      <td>Nob Hill Foods</td>\n",
       "      <td>drinks</td>\n",
       "      <td>13.43</td>\n",
       "    </tr>\n",
       "    <tr>\n",
       "      <th>2</th>\n",
       "      <td>2</td>\n",
       "      <td>2023-12-01</td>\n",
       "      <td>friday</td>\n",
       "      <td>TicketWeb</td>\n",
       "      <td>entertainment</td>\n",
       "      <td>49.20</td>\n",
       "    </tr>\n",
       "    <tr>\n",
       "      <th>3</th>\n",
       "      <td>3</td>\n",
       "      <td>2023-12-02</td>\n",
       "      <td>saturday</td>\n",
       "      <td>Lyft</td>\n",
       "      <td>rideshare</td>\n",
       "      <td>6.00</td>\n",
       "    </tr>\n",
       "    <tr>\n",
       "      <th>4</th>\n",
       "      <td>4</td>\n",
       "      <td>2023-12-02</td>\n",
       "      <td>saturday</td>\n",
       "      <td>street vendor</td>\n",
       "      <td>eating out</td>\n",
       "      <td>5.00</td>\n",
       "    </tr>\n",
       "    <tr>\n",
       "      <th>5</th>\n",
       "      <td>5</td>\n",
       "      <td>2023-12-02</td>\n",
       "      <td>saturday</td>\n",
       "      <td>Hilton Hotel</td>\n",
       "      <td>hotels</td>\n",
       "      <td>259.66</td>\n",
       "    </tr>\n",
       "    <tr>\n",
       "      <th>6</th>\n",
       "      <td>6</td>\n",
       "      <td>2023-12-02</td>\n",
       "      <td>saturday</td>\n",
       "      <td>Mezcal</td>\n",
       "      <td>restaurant</td>\n",
       "      <td>73.74</td>\n",
       "    </tr>\n",
       "    <tr>\n",
       "      <th>7</th>\n",
       "      <td>7</td>\n",
       "      <td>2023-12-02</td>\n",
       "      <td>saturday</td>\n",
       "      <td>The Cheesecake Factory</td>\n",
       "      <td>restaurant</td>\n",
       "      <td>108.16</td>\n",
       "    </tr>\n",
       "    <tr>\n",
       "      <th>8</th>\n",
       "      <td>8</td>\n",
       "      <td>2023-12-02</td>\n",
       "      <td>saturday</td>\n",
       "      <td>Beverages &amp; More</td>\n",
       "      <td>miscellaneous</td>\n",
       "      <td>26.88</td>\n",
       "    </tr>\n",
       "    <tr>\n",
       "      <th>9</th>\n",
       "      <td>9</td>\n",
       "      <td>2023-12-02</td>\n",
       "      <td>saturday</td>\n",
       "      <td>Lyft</td>\n",
       "      <td>rideshare</td>\n",
       "      <td>15.85</td>\n",
       "    </tr>\n",
       "  </tbody>\n",
       "</table>\n",
       "</div>"
      ],
      "text/plain": [
       "   txn_id        date       day             description       category  amount\n",
       "0       0  2023-12-01    friday     Tlatoani Barbershop        haircut   60.00\n",
       "1       1  2023-12-01    friday          Nob Hill Foods         drinks   13.43\n",
       "2       2  2023-12-01    friday               TicketWeb  entertainment   49.20\n",
       "3       3  2023-12-02  saturday                    Lyft      rideshare    6.00\n",
       "4       4  2023-12-02  saturday           street vendor     eating out    5.00\n",
       "5       5  2023-12-02  saturday            Hilton Hotel         hotels  259.66\n",
       "6       6  2023-12-02  saturday                  Mezcal     restaurant   73.74\n",
       "7       7  2023-12-02  saturday  The Cheesecake Factory     restaurant  108.16\n",
       "8       8  2023-12-02  saturday        Beverages & More  miscellaneous   26.88\n",
       "9       9  2023-12-02  saturday                    Lyft      rideshare   15.85"
      ]
     },
     "execution_count": 29,
     "metadata": {},
     "output_type": "execute_result"
    }
   ],
   "source": [
    "df_2 = df\n",
    "df_2.head(10)"
   ]
  },
  {
   "cell_type": "code",
   "execution_count": 30,
   "metadata": {},
   "outputs": [
    {
     "data": {
      "text/html": [
       "<div>\n",
       "<style scoped>\n",
       "    .dataframe tbody tr th:only-of-type {\n",
       "        vertical-align: middle;\n",
       "    }\n",
       "\n",
       "    .dataframe tbody tr th {\n",
       "        vertical-align: top;\n",
       "    }\n",
       "\n",
       "    .dataframe thead th {\n",
       "        text-align: right;\n",
       "    }\n",
       "</style>\n",
       "<table border=\"1\" class=\"dataframe\">\n",
       "  <thead>\n",
       "    <tr style=\"text-align: right;\">\n",
       "      <th></th>\n",
       "      <th>category</th>\n",
       "      <th>amount</th>\n",
       "    </tr>\n",
       "  </thead>\n",
       "  <tbody>\n",
       "    <tr>\n",
       "      <th>95</th>\n",
       "      <td>restaurant</td>\n",
       "      <td>64.00</td>\n",
       "    </tr>\n",
       "    <tr>\n",
       "      <th>96</th>\n",
       "      <td>electronics</td>\n",
       "      <td>19.69</td>\n",
       "    </tr>\n",
       "    <tr>\n",
       "      <th>97</th>\n",
       "      <td>rideshare</td>\n",
       "      <td>18.99</td>\n",
       "    </tr>\n",
       "    <tr>\n",
       "      <th>98</th>\n",
       "      <td>groceries</td>\n",
       "      <td>3.64</td>\n",
       "    </tr>\n",
       "    <tr>\n",
       "      <th>99</th>\n",
       "      <td>restaurant</td>\n",
       "      <td>45.21</td>\n",
       "    </tr>\n",
       "    <tr>\n",
       "      <th>100</th>\n",
       "      <td>drinks</td>\n",
       "      <td>17.99</td>\n",
       "    </tr>\n",
       "    <tr>\n",
       "      <th>101</th>\n",
       "      <td>groceries</td>\n",
       "      <td>2.79</td>\n",
       "    </tr>\n",
       "    <tr>\n",
       "      <th>102</th>\n",
       "      <td>parking</td>\n",
       "      <td>16.00</td>\n",
       "    </tr>\n",
       "    <tr>\n",
       "      <th>103</th>\n",
       "      <td>drinks</td>\n",
       "      <td>12.58</td>\n",
       "    </tr>\n",
       "    <tr>\n",
       "      <th>104</th>\n",
       "      <td>groceries</td>\n",
       "      <td>3.32</td>\n",
       "    </tr>\n",
       "  </tbody>\n",
       "</table>\n",
       "</div>"
      ],
      "text/plain": [
       "        category  amount\n",
       "95    restaurant   64.00\n",
       "96   electronics   19.69\n",
       "97     rideshare   18.99\n",
       "98     groceries    3.64\n",
       "99    restaurant   45.21\n",
       "100       drinks   17.99\n",
       "101    groceries    2.79\n",
       "102      parking   16.00\n",
       "103       drinks   12.58\n",
       "104    groceries    3.32"
      ]
     },
     "execution_count": 30,
     "metadata": {},
     "output_type": "execute_result"
    }
   ],
   "source": [
    "# Drop first 4 columns (Method 1) Using the 'drop' method\n",
    "df_2 = df_2.drop(columns=['txn_id', 'date', 'day', 'description'])\n",
    "df_2.tail(10)"
   ]
  },
  {
   "cell_type": "markdown",
   "metadata": {},
   "source": [
    "Using a box plot for actual amount spent from my data."
   ]
  },
  {
   "cell_type": "code",
   "execution_count": 31,
   "metadata": {},
   "outputs": [
    {
     "data": {
      "text/plain": [
       "<Axes: title={'center': 'amount'}, xlabel='category'>"
      ]
     },
     "execution_count": 31,
     "metadata": {},
     "output_type": "execute_result"
    },
    {
     "data": {
      "image/png": "[encoded data removed]",
      "text/plain": [
       "<Figure size 640x480 with 1 Axes>"
      ]
     },
     "metadata": {},
     "output_type": "display_data"
    }
   ],
   "source": [
    "df_2.boxplot(\n",
    "    column='amount',\n",
    "    by='category',\n",
    "    rot=90\n",
    ")"
   ]
  },
  {
   "cell_type": "markdown",
   "metadata": {},
   "source": [
    "Notice the different shapes of the various categories. Some have larger range than others. Some categories only occur once while others have many transactions."
   ]
  },
  {
   "cell_type": "code",
   "execution_count": 32,
   "metadata": {},
   "outputs": [
    {
     "data": {
      "image/png": "[encoded data removed]",
      "text/plain": [
       "<Figure size 640x480 with 1 Axes>"
      ]
     },
     "metadata": {},
     "output_type": "display_data"
    }
   ],
   "source": [
    "# Example use of the box plot with generic data\n",
    "df = pd.DataFrame(\n",
    "    np.random.randn(10, 4),\n",
    "    columns=['Col1', 'Col2', 'Col3', 'Col4']\n",
    ")\n",
    "\n",
    "boxplot = df.boxplot(column=['Col1', 'Col2', 'Col3'])  "
   ]
  },
  {
   "cell_type": "code",
   "execution_count": 33,
   "metadata": {},
   "outputs": [
    {
     "data": {
      "text/html": [
       "<div>\n",
       "<style scoped>\n",
       "    .dataframe tbody tr th:only-of-type {\n",
       "        vertical-align: middle;\n",
       "    }\n",
       "\n",
       "    .dataframe tbody tr th {\n",
       "        vertical-align: top;\n",
       "    }\n",
       "\n",
       "    .dataframe thead th {\n",
       "        text-align: right;\n",
       "    }\n",
       "</style>\n",
       "<table border=\"1\" class=\"dataframe\">\n",
       "  <thead>\n",
       "    <tr style=\"text-align: right;\">\n",
       "      <th></th>\n",
       "      <th>txn_id</th>\n",
       "      <th>date</th>\n",
       "      <th>day</th>\n",
       "      <th>description</th>\n",
       "      <th>category</th>\n",
       "      <th>amount</th>\n",
       "    </tr>\n",
       "  </thead>\n",
       "  <tbody>\n",
       "    <tr>\n",
       "      <th>0</th>\n",
       "      <td>0</td>\n",
       "      <td>2023-12-01</td>\n",
       "      <td>friday</td>\n",
       "      <td>Tlatoani Barbershop</td>\n",
       "      <td>haircut</td>\n",
       "      <td>60.00</td>\n",
       "    </tr>\n",
       "    <tr>\n",
       "      <th>1</th>\n",
       "      <td>1</td>\n",
       "      <td>2023-12-01</td>\n",
       "      <td>friday</td>\n",
       "      <td>Andy's Boy</td>\n",
       "      <td>meds</td>\n",
       "      <td>60.00</td>\n",
       "    </tr>\n",
       "    <tr>\n",
       "      <th>2</th>\n",
       "      <td>2</td>\n",
       "      <td>2023-12-01</td>\n",
       "      <td>friday</td>\n",
       "      <td>Nob Hill Foods</td>\n",
       "      <td>drinks</td>\n",
       "      <td>13.43</td>\n",
       "    </tr>\n",
       "    <tr>\n",
       "      <th>3</th>\n",
       "      <td>3</td>\n",
       "      <td>2023-12-01</td>\n",
       "      <td>friday</td>\n",
       "      <td>TicketWeb</td>\n",
       "      <td>entertainment</td>\n",
       "      <td>49.20</td>\n",
       "    </tr>\n",
       "    <tr>\n",
       "      <th>4</th>\n",
       "      <td>4</td>\n",
       "      <td>2023-12-02</td>\n",
       "      <td>saturday</td>\n",
       "      <td>Lyft</td>\n",
       "      <td>rideshare</td>\n",
       "      <td>6.00</td>\n",
       "    </tr>\n",
       "    <tr>\n",
       "      <th>5</th>\n",
       "      <td>5</td>\n",
       "      <td>2023-12-02</td>\n",
       "      <td>saturday</td>\n",
       "      <td>street vendor</td>\n",
       "      <td>eating out</td>\n",
       "      <td>5.00</td>\n",
       "    </tr>\n",
       "    <tr>\n",
       "      <th>6</th>\n",
       "      <td>6</td>\n",
       "      <td>2023-12-02</td>\n",
       "      <td>saturday</td>\n",
       "      <td>Hilton Hotel</td>\n",
       "      <td>hotels</td>\n",
       "      <td>259.66</td>\n",
       "    </tr>\n",
       "    <tr>\n",
       "      <th>7</th>\n",
       "      <td>7</td>\n",
       "      <td>2023-12-02</td>\n",
       "      <td>saturday</td>\n",
       "      <td>Mezcal</td>\n",
       "      <td>restaurant</td>\n",
       "      <td>73.74</td>\n",
       "    </tr>\n",
       "    <tr>\n",
       "      <th>8</th>\n",
       "      <td>8</td>\n",
       "      <td>2023-12-02</td>\n",
       "      <td>saturday</td>\n",
       "      <td>The Cheesecake Factory</td>\n",
       "      <td>restaurant</td>\n",
       "      <td>108.16</td>\n",
       "    </tr>\n",
       "    <tr>\n",
       "      <th>9</th>\n",
       "      <td>9</td>\n",
       "      <td>2023-12-02</td>\n",
       "      <td>saturday</td>\n",
       "      <td>Beverages &amp; More</td>\n",
       "      <td>miscellaneous</td>\n",
       "      <td>26.88</td>\n",
       "    </tr>\n",
       "  </tbody>\n",
       "</table>\n",
       "</div>"
      ],
      "text/plain": [
       "   txn_id        date       day             description       category  amount\n",
       "0       0  2023-12-01    friday     Tlatoani Barbershop        haircut   60.00\n",
       "1       1  2023-12-01    friday              Andy's Boy           meds   60.00\n",
       "2       2  2023-12-01    friday          Nob Hill Foods         drinks   13.43\n",
       "3       3  2023-12-01    friday               TicketWeb  entertainment   49.20\n",
       "4       4  2023-12-02  saturday                    Lyft      rideshare    6.00\n",
       "5       5  2023-12-02  saturday           street vendor     eating out    5.00\n",
       "6       6  2023-12-02  saturday            Hilton Hotel         hotels  259.66\n",
       "7       7  2023-12-02  saturday                  Mezcal     restaurant   73.74\n",
       "8       8  2023-12-02  saturday  The Cheesecake Factory     restaurant  108.16\n",
       "9       9  2023-12-02  saturday        Beverages & More  miscellaneous   26.88"
      ]
     },
     "execution_count": 33,
     "metadata": {},
     "output_type": "execute_result"
    }
   ],
   "source": [
    "# Checking processed_df implementing some more changes.\n",
    "processed_df.head(10)"
   ]
  },
  {
   "cell_type": "markdown",
   "metadata": {},
   "source": [
    "Will now add another column that is the proportion spent per description. First, will calculate the total dollar amount spent using the sum function. Then, use aggregate operation GROUP BY with sum and divide by total spent to get a proportion of total spent by description. Will then create a horizontal bar plot."
   ]
  },
  {
   "cell_type": "code",
   "execution_count": 34,
   "metadata": {},
   "outputs": [
    {
     "name": "stdout",
     "output_type": "stream",
     "text": [
      "4513.41\n"
     ]
    }
   ],
   "source": [
    "df_3 = processed_df\n",
    "total_spent = df_3['amount'].sum().round(2)\n",
    "print(total_spent)"
   ]
  },
  {
   "cell_type": "code",
   "execution_count": 35,
   "metadata": {},
   "outputs": [
    {
     "name": "stdout",
     "output_type": "stream",
     "text": [
      "                     description  amount  proportion\n",
      "38                        Mezcal   73.74    0.016338\n",
      "63             Total Wine & More   75.06    0.016630\n",
      "33       Lighthouse Publications   75.40    0.016706\n",
      "20  Dubber's Oldtown Bar & Grill   79.74    0.017667\n",
      "5                BJ's Restaurant   87.69    0.019429\n",
      "4                     Applebee's   92.21    0.020430\n",
      "44                Nob Hill Foods   95.16    0.021084\n",
      "13      California Pizza Kitchen  102.82    0.022781\n",
      "34                          Lyft  103.53    0.022938\n",
      "59        The Cheesecake Factory  108.16    0.023964\n",
      "68                          Vans  120.19    0.026630\n",
      "9               Beverages & More  120.29    0.026652\n",
      "30                         Kohls  120.79    0.026762\n",
      "21                  East of Eden  165.00    0.036558\n",
      "11            Buffalo Wild Wings  176.98    0.039212\n",
      "62           Tlatoani Barbershop  180.00    0.039881\n",
      "47               Pandora Jewelry  224.48    0.049736\n",
      "24                  Hilton Hotel  259.66    0.057531\n",
      "18               Crystal - Venmo  450.00    0.099703\n",
      "43                        Nelnet  528.30    0.117051\n"
     ]
    }
   ],
   "source": [
    "df_4 = df_3\n",
    "df_4 = df_4.drop(columns=['txn_id', 'date', 'day', 'category'])\n",
    "df_4 = df_4.groupby('description', as_index=False).sum()\n",
    "df_4['proportion'] = df_4.apply(lambda row: row['amount'] / total_spent, axis=1)\n",
    "df_4 = df_4.sort_values(by='proportion', ascending=True)\n",
    "df_4 = df_4.tail(20)\n",
    "print(df_4)"
   ]
  },
  {
   "cell_type": "code",
   "execution_count": 36,
   "metadata": {},
   "outputs": [
    {
     "data": {
      "text/plain": [
       "<Axes: ylabel='description'>"
      ]
     },
     "execution_count": 36,
     "metadata": {},
     "output_type": "execute_result"
    },
    {
     "data": {
      "image/png": "[encoded data removed]",
      "text/plain": [
       "<Figure size 640x480 with 1 Axes>"
      ]
     },
     "metadata": {},
     "output_type": "display_data"
    }
   ],
   "source": [
    "df_4.plot('description', 'proportion', kind='barh')"
   ]
  },
  {
   "cell_type": "markdown",
   "metadata": {},
   "source": [
    "Check some arbitrary cell in the dataframe."
   ]
  },
  {
   "cell_type": "code",
   "execution_count": 37,
   "metadata": {},
   "outputs": [
    {
     "data": {
      "text/plain": [
       "np.float64(75.06)"
      ]
     },
     "execution_count": 37,
     "metadata": {},
     "output_type": "execute_result"
    }
   ],
   "source": [
    "df_4.iloc[1,1]"
   ]
  },
  {
   "cell_type": "markdown",
   "metadata": {},
   "source": [
    "# Section 4: Creating Synthetic Data\n",
    "\n",
    "The final deliverable from this project will be a visual dashboard detailing relevant and crucial information. But will first incorporate some synthetic data to observe the performance of the dashboard without loading own personal financial data first. The Goal of this section is to test necessary code to build a robust dataset that this project is expected to analyze."
   ]
  },
  {
   "cell_type": "markdown",
   "metadata": {},
   "source": [
    "## Subsection 1: Pick a Random Date within a Given Range\n",
    "\n",
    "Create a function that picks a random data within a given month. The idea is that reports will be created/available monthly. Will use the random, time, datetime modules."
   ]
  },
  {
   "cell_type": "code",
   "execution_count": 43,
   "metadata": {},
   "outputs": [],
   "source": [
    "# Random date function\n",
    "def random_date(\n",
    "        start_date,\n",
    "        end_date\n",
    "):\n",
    "    \"\"\"\n",
    "    Generate a random datetime object between 2 dates.\n",
    "    \n",
    "    Args:\n",
    "        start_date: Start date as a datetime object.\n",
    "        end_date: End date as a datetime object.\n",
    "    \n",
    "    Returns:\n",
    "        A randome datetime object between start_date and end_date.\n",
    "    \"\"\"\n",
    "    start_time = time.mktime(\n",
    "        datetime.strptime(start_date, \"%Y-%m-%d\").timetuple()\n",
    "    )\n",
    "    end_time = time.mktime(\n",
    "        datetime.strptime(end_date, \"%Y-%m-%d\").timetuple()\n",
    "    )\n",
    "    random_timestamp = random.uniform(start_time, end_time)\n",
    "    return datetime.fromtimestamp(random_timestamp)\n"
   ]
  },
  {
   "cell_type": "markdown",
   "metadata": {},
   "source": [
    "Example usage of the new function. From it, will print the date, time, and day individually."
   ]
  },
  {
   "cell_type": "code",
   "execution_count": null,
   "metadata": {},
   "outputs": [
    {
     "name": "stdout",
     "output_type": "stream",
     "text": [
      "2023-12-28\n",
      "21:45:07\n",
      "Thursday\n"
     ]
    }
   ],
   "source": [
    "start_date = '2023-12-01'\n",
    "end_date = '2023-12-31'\n",
    "\n",
    "x = random_date(start_date, end_date)\n",
    "\n",
    "print(x.strftime(\"%Y-%m-%d\"))\n",
    "print(x.strftime(\"%H:%M:%S\"))\n",
    "print(x.strftime('%A'))"
   ]
  },
  {
   "cell_type": "markdown",
   "metadata": {},
   "source": [
    "Will use iteration (probably for-loop) to populate two lists that will be columns in a synthetic dataset. The `num_data_pts` variable will be global because it is an important metric that will determine the size of the financial data, i.e. number of records/rows."
   ]
  },
  {
   "cell_type": "code",
   "execution_count": 51,
   "metadata": {},
   "outputs": [],
   "source": [
    "# Global variable. Number of dates in the list.\n",
    "num_data_pts = 10"
   ]
  },
  {
   "cell_type": "code",
   "execution_count": 52,
   "metadata": {},
   "outputs": [],
   "source": [
    "date_list = [] # Initiate an empty date list\n",
    "day_list = [] # List of days\n",
    "for x in range(num_data_pts):\n",
    "    y = random_date(start_date, end_date)\n",
    "    date_list.append(y.strftime(\"%Y-%m-%d\"))\n",
    "    day_list.append(y.strftime(\"%A\"))"
   ]
  },
  {
   "cell_type": "code",
   "execution_count": 53,
   "metadata": {},
   "outputs": [
    {
     "name": "stdout",
     "output_type": "stream",
     "text": [
      "['Sunday', 'Saturday', 'Sunday', 'Thursday', 'Tuesday', 'Wednesday', 'Wednesday', 'Wednesday', 'Monday', 'Friday']\n",
      "['2024-01-07', '2024-01-13', '2024-01-21', '2024-01-11', '2024-01-30', '2024-01-10', '2024-01-03', '2024-01-17', '2024-01-08', '2024-01-05']\n"
     ]
    }
   ],
   "source": [
    "print(day_list)\n",
    "print(date_list)"
   ]
  },
  {
   "cell_type": "markdown",
   "metadata": {},
   "source": [
    "Successfully populated two lists with date and corresponding day. Will now practice joining both lists into a dataframe. Convert each list into a Pandas Series, then concatenate the series to form a dataframe."
   ]
  },
  {
   "cell_type": "code",
   "execution_count": 54,
   "metadata": {},
   "outputs": [
    {
     "name": "stdout",
     "output_type": "stream",
     "text": [
      "         Date        Day\n",
      "0  2024-01-07     Sunday\n",
      "1  2024-01-13   Saturday\n",
      "2  2024-01-21     Sunday\n",
      "3  2024-01-11   Thursday\n",
      "4  2024-01-30    Tuesday\n",
      "5  2024-01-10  Wednesday\n",
      "6  2024-01-03  Wednesday\n",
      "7  2024-01-17  Wednesday\n",
      "8  2024-01-08     Monday\n",
      "9  2024-01-05     Friday\n"
     ]
    }
   ],
   "source": [
    "# List 1 is date_list. List 2 is day_list.\n",
    "\n",
    "s1 = pd.Series(date_list, name='Date')\n",
    "s2 = pd.Series(day_list, name='Day')\n",
    "\n",
    "df = pd.concat([s1, s2], axis=1)\n",
    "print(df)"
   ]
  },
  {
   "cell_type": "markdown",
   "metadata": {},
   "source": [
    "## Subsection 2: Creating a Dictionary of Descriptions and Categories\n",
    "\n",
    "Will now create a dictionary with some sample descriptions and categories for expenses. Practice how to extract wanted data and process it or manipulate it for firther analysis."
   ]
  },
  {
   "cell_type": "code",
   "execution_count": 58,
   "metadata": {},
   "outputs": [],
   "source": [
    "desc_and_cat = {\n",
    "    \"McBob's\": \"eating out\",\n",
    "    \"Star Coffee\": \"eating out\",\n",
    "    \"US Dept. of Education\": \"student loans\",\n",
    "    \"Applebee's\": \"restaurant\",\n",
    "    \"Circuit City\": \"electronics\",\n",
    "    \"Mezcal\": \"restaurant\",\n",
    "    \"DoubleTree\": \"hotel\",\n",
    "    \"Total Wine & More\": \"drinks\",\n",
    "    \"Pandora Jewelry\": \"gift\",\n",
    "    \"Uber\": \"rideshare\",\n",
    "    \"California Pizza Kitchen\": \"restaurant\",\n",
    "    \"Lyft\": \"rideshare\",\n",
    "    \"Kohls\": \"apparel\",\n",
    "    \"Dubber's Oldtown Bar & Grill\": \"drinks\",\n",
    "    \"East of Eden\": \"meds\",\n",
    "    \"Lighthouse Publications\": \"miscellaneous\",\n",
    "    \"Nob Hill Foods\": \"groceries\",\n",
    "    \"Some Barbershop\": \"haircut\",\n",
    "    \"Vans\": \"apparel\"\n",
    "}\n"
   ]
  },
  {
   "cell_type": "markdown",
   "metadata": {},
   "source": [
    "Want to randomly pick elements from the dictioinary created above."
   ]
  },
  {
   "cell_type": "code",
   "execution_count": 59,
   "metadata": {},
   "outputs": [],
   "source": [
    "# Get key only\n",
    "def pick_random_key(data):\n",
    "    \"\"\"\n",
    "    Pick a random key from a dictionary.\n",
    "\n",
    "    Args:\n",
    "        data (dict): The dictionary to pick from.\n",
    "\n",
    "    Returns:\n",
    "        The randomly picked key, or None if the dictionary is empty.\n",
    "    \"\"\"\n",
    "    if not data:\n",
    "        return None\n",
    "    return random.choice(list(data))\n",
    "\n",
    "# Get value only\n",
    "def pick_random_value(data):\n",
    "    \"\"\"\n",
    "    Pick a random value from a dictionary.astimezone\n",
    "\n",
    "    Args:\n",
    "        data (dict): The dictionary to pick from.\n",
    "\n",
    "    Returns:\n",
    "        The randomly picked value, or None if the dictionary is empty.\n",
    "\n",
    "    \"\"\"\n",
    "    if not data:\n",
    "        return None\n",
    "    return random.choice(list(data.values()))\n",
    "\n",
    "# Function to pick random key-value pair from dictionary\n",
    "def pick_random_item(data):\n",
    "    \"\"\"\n",
    "    Pick a random key-value pair (item) from a dictionary.astimezone\n",
    "\n",
    "    Args:\n",
    "        data (dict): The dictionary to pick from.\n",
    "\n",
    "    Returns:\n",
    "        A tuple containing the randomly picked key-value pair, or None if the dictionary is empty.   \n",
    "    \"\"\"\n",
    "    if not data:\n",
    "        return None\n",
    "    return random.choice(list(data.items()))\n",
    "\n"
   ]
  },
  {
   "cell_type": "code",
   "execution_count": 60,
   "metadata": {},
   "outputs": [
    {
     "name": "stdout",
     "output_type": "stream",
     "text": [
      "Random key: Applebee's\n",
      "Random value: electronics\n",
      "Random item: ('East of Eden', 'meds')\n"
     ]
    }
   ],
   "source": [
    "# Test function above\n",
    "random_key = pick_random_key(desc_and_cat)\n",
    "print(f\"Random key: {random_key}\")\n",
    "\n",
    "random_value = pick_random_value(desc_and_cat)\n",
    "print(f\"Random value: {random_value}\")\n",
    "\n",
    "random_item = pick_random_item(desc_and_cat)\n",
    "print(f\"Random item: {random_item}\")"
   ]
  },
  {
   "cell_type": "code",
   "execution_count": 61,
   "metadata": {},
   "outputs": [
    {
     "name": "stdout",
     "output_type": "stream",
     "text": [
      "Random item: (\"Applebee's\", 'restaurant')\n",
      "Random item: ('Vans', 'apparel')\n",
      "Random item: ('Vans', 'apparel')\n"
     ]
    }
   ],
   "source": [
    "random_item_2 = pick_random_item(desc_and_cat)\n",
    "print(f\"Random item: {random_item_2}\")\n",
    "\n",
    "random_item_3 = pick_random_item(desc_and_cat)\n",
    "print(f\"Random item: {random_item_3}\")\n",
    "\n",
    "random_item_4 = pick_random_item(desc_and_cat)\n",
    "print(f\"Random item: {random_item_4}\")"
   ]
  },
  {
   "cell_type": "markdown",
   "metadata": {},
   "source": [
    "Populate an initiated list to store various transactions."
   ]
  },
  {
   "cell_type": "code",
   "execution_count": null,
   "metadata": {},
   "outputs": [],
   "source": [
    "num_data_pts = 10 # Number of dates in the list\n",
    "trx_list = [] # Initiate an empty date list\n",
    "for x in range(num_data_pts):\n",
    "    y = pick_random_item(desc_and_cat)\n",
    "    trx_list.append(y)"
   ]
  },
  {
   "cell_type": "code",
   "execution_count": null,
   "metadata": {},
   "outputs": [],
   "source": [
    "print(list(trx_list))"
   ]
  },
  {
   "cell_type": "code",
   "execution_count": null,
   "metadata": {},
   "outputs": [],
   "source": [
    "type(trx_list)"
   ]
  },
  {
   "cell_type": "markdown",
   "metadata": {},
   "source": [
    "A variation of the above logic but will try to populate different lists, one for description another for category."
   ]
  },
  {
   "cell_type": "code",
   "execution_count": null,
   "metadata": {},
   "outputs": [],
   "source": [
    "num_data_pts = 10 # Number of dates in the list\n",
    "desc_list = [] # Initiate an empty description list\n",
    "cat_list = []\n",
    "for x in range(num_data_pts):\n",
    "    y = pick_random_item(desc_and_cat)\n",
    "    desc_list.append(y[0])\n",
    "    cat_list.append(y[1])"
   ]
  },
  {
   "cell_type": "code",
   "execution_count": null,
   "metadata": {},
   "outputs": [],
   "source": [
    "print(cat_list)"
   ]
  },
  {
   "cell_type": "markdown",
   "metadata": {},
   "source": [
    "Turn a few of the tuples above into a dataframe."
   ]
  },
  {
   "cell_type": "code",
   "execution_count": null,
   "metadata": {},
   "outputs": [],
   "source": [
    "print(list(random_item_2))"
   ]
  },
  {
   "cell_type": "code",
   "execution_count": null,
   "metadata": {},
   "outputs": [],
   "source": [
    "desc = []\n",
    "desc.append(list(random_item)[0])\n",
    "desc.append(list(random_item_2)[0])\n",
    "desc.append(list(random_item_3)[0])\n",
    "desc.append(list(random_item_4)[0])\n",
    "print(desc)"
   ]
  },
  {
   "cell_type": "code",
   "execution_count": null,
   "metadata": {},
   "outputs": [],
   "source": [
    "category = []\n",
    "category.append(list(random_item)[1])\n",
    "category.append(list(random_item_2)[1])\n",
    "category.append(list(random_item_3)[1])\n",
    "category.append(list(random_item_4)[1])\n",
    "print(category)"
   ]
  },
  {
   "cell_type": "code",
   "execution_count": null,
   "metadata": {},
   "outputs": [],
   "source": [
    "# Save the four tuples as lists and make a df from them\n",
    "\n",
    "s3 = pd.Series(desc , name='Description')\n",
    "s4 = pd.Series(category, name='Category')\n",
    "\n",
    "df = pd.concat([s3, s4], axis=1)\n",
    "print(df)"
   ]
  },
  {
   "cell_type": "code",
   "execution_count": null,
   "metadata": {},
   "outputs": [],
   "source": [
    "num_data_pts = 10 # Number of dates in the list\n",
    "date_list = [] # Initiate an empty date list\n",
    "day_list = [] # List of days\n",
    "for x in range(num_data_pts):\n",
    "    y = random_date(start_date, end_date)\n",
    "    date_list.append(y.strftime(\"%Y-%m-%d\"))\n",
    "    day_list.append(y.strftime(\"%A\"))"
   ]
  },
  {
   "cell_type": "code",
   "execution_count": null,
   "metadata": {},
   "outputs": [],
   "source": [
    "# Join two lists\n",
    "s5 = pd.Series(date_list , name='Date')\n",
    "s6 = pd.Series(day_list, name='Day')\n",
    "s7 = pd.Series(desc_list, name='Description')\n",
    "s8 = pd.Series(cat_list, name='Category')\n",
    "df2 = pd.concat([s5, s6, s7, s8], axis=1)\n",
    "df2\n"
   ]
  },
  {
   "cell_type": "code",
   "execution_count": null,
   "metadata": {},
   "outputs": [],
   "source": [
    "df2['Category'].unique()"
   ]
  },
  {
   "cell_type": "markdown",
   "metadata": {},
   "source": [
    "Function to add new column with dollar amount based of category column."
   ]
  },
  {
   "cell_type": "code",
   "execution_count": null,
   "metadata": {},
   "outputs": [],
   "source": [
    "def amount(row):\n",
    "    if row['Category'] == 'haircut':\n",
    "        val = round(random.uniform(45.00, 70.05))\n",
    "    else:\n",
    "        val = 0.00\n",
    "\n",
    "#     def f(row):\n",
    "#     if row['A'] == row['B']:\n",
    "#         val = 0\n",
    "#     elif row['A'] > row['B']:\n",
    "#         val = 1\n",
    "#     else:\n",
    "#         val = -1\n",
    "#     return val\n",
    "\n",
    "# import random\n",
    "\n",
    "# def random_float_2_decimals(min_val, max_val):\n",
    "#   \"\"\"Generates a random float number with two decimal places \n",
    "#   between min_val and max_val (inclusive).\n",
    "#   \"\"\"\n",
    "#   random_num = random.uniform(min_val, max_val)\n",
    "#   return round(random_num, 2)\n",
    "\n",
    "# # Example usage:\n",
    "# min_value = 1.5\n",
    "# max_value = 10.7\n",
    "# random_number = random_float_2_decimals(min_value, max_value)\n",
    "# print(random_number)"
   ]
  },
  {
   "cell_type": "code",
   "execution_count": null,
   "metadata": {},
   "outputs": [],
   "source": [
    "df2['C'] = df2.apply(amount, axis=1)\n",
    "df2"
   ]
  },
  {
   "cell_type": "code",
   "execution_count": null,
   "metadata": {},
   "outputs": [],
   "source": [
    "import numpy as np\n",
    "# Create a list of our conditions\n",
    "conditions = [\n",
    "    (df['Category'] == 'haircut'),\n",
    "    (df['Category'] == 'eating out'),\n",
    "    (df['Category'] == 'miscellaneous'),\n",
    "    (df['Category'] == 'groceries'),\n",
    "    (df['Category'] == 'drinks'),\n",
    "    (df['Category'] == 'meds'),\n",
    "    (df['Category'] == 'student loans'),\n",
    "    (df['Category'] == 'apparel'),\n",
    "    (df['Category'] == 'rideshare')\n",
    "]\n",
    "\n",
    "# List of values we want to assign for each condition\n",
    "values = [\n",
    "    round(random.uniform(45.00, 70.05)),\n",
    "    round(random.uniform(5.25, 45.50)),\n",
    "    round(random.uniform(10.10, 110.05)),\n",
    "    round(random.uniform(15.00, 75.05)),\n",
    "    round(random.uniform(25.00, 125.05)),\n",
    "    round(random.uniform(20, 30)),\n",
    "    round(random.uniform(87.90, 176.90)),\n",
    "    round(random.uniform(55.12, 89.03)),\n",
    "    round(random.uniform(15.10, 28.90))\n",
    "]\n",
    "\n",
    "# Create a new column and use np.select to assign values to it using our list\n",
    "df2['Amount'] = np.select(conditions, values)\n",
    "\n",
    "df2"
   ]
  },
  {
   "cell_type": "code",
   "execution_count": null,
   "metadata": {},
   "outputs": [],
   "source": [
    "df2"
   ]
  },
  {
   "cell_type": "code",
   "execution_count": null,
   "metadata": {},
   "outputs": [],
   "source": [
    "import numpy as np\n",
    "\n",
    "def amount(value):\n",
    "    if value == 'haircut':\n",
    "        return round(random.uniform(45.00, 70.05), 2)\n",
    "    elif value == 'eating out':\n",
    "        return round(random.uniform(5.25, 45.50), 2)\n",
    "    elif value == 'miscellaneous':\n",
    "        return round(random.uniform(10.10, 110.05), 2)\n",
    "    elif value == 'groceries':\n",
    "        return round(random.uniform(15.00, 75.05), 2)\n",
    "    elif value == 'drinks':\n",
    "        return round(random.uniform(25.00, 125.05), 2)\n",
    "    elif value == 'meds':\n",
    "        return round(random.uniform(20, 30), 2)\n",
    "    elif value == 'student loans':\n",
    "        return round(random.uniform(87.90, 176.90), 2)\n",
    "    elif value == 'apparel':\n",
    "        return round(random.uniform(55.12, 89.03), 2)\n",
    "    elif value == 'rideshare':\n",
    "        return round(random.uniform(15.10, 28.90), 2)\n",
    "\n",
    "df2['Amount'] = df2['Category'].map(amount)\n",
    "\n",
    "df2"
   ]
  },
  {
   "cell_type": "code",
   "execution_count": null,
   "metadata": {},
   "outputs": [],
   "source": [
    "# End of \"prototyping_notebook.ipynb\""
   ]
  }
 ],
 "metadata": {
  "kernelspec": {
   "display_name": "Python 3",
   "language": "python",
   "name": "python3"
  },
  "language_info": {
   "codemirror_mode": {
    "name": "ipython",
    "version": 3
   },
   "file_extension": ".py",
   "mimetype": "text/x-python",
   "name": "python",
   "nbconvert_exporter": "python",
   "pygments_lexer": "ipython3",
   "version": "3.12.10"
  }
 },
 "nbformat": 4,
 "nbformat_minor": 2
}
